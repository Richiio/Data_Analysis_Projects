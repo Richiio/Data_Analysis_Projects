{
  "cells": [
    {
      "cell_type": "markdown",
      "id": "75795235",
      "metadata": {
        "id": "75795235"
      },
      "source": [
        "# Project: Investigate a Dataset \n",
        "\n",
        "## Table of Contents\n",
        "<ul>\n",
        "<li><a href=\"#intro\">Introduction</a></li>\n",
        "<li><a href=\"#wrangling\">Data Wrangling</a></li>\n",
        "\n",
        "<li><a href=\"#eda\">Exploratory Data Analysis</a></li>\n",
        "<li><a href=\"#conclusion\">Conclusions</a></li>\n",
        "</ul>"
      ]
    },
    {
      "cell_type": "markdown",
      "id": "8ac3097e",
      "metadata": {
        "id": "8ac3097e"
      },
      "source": [
        "<a id='intro'></a>\n",
        "## Introduction\n",
        "\n",
        "### Dataset Description \n",
        "FREE DATA FROM WORLD BANK VIA GAPMINDER.ORG, \n",
        "> Gapminder has collected a lot of information about how people live their lives in different countries, tracked across the years, and on a number of different indicators.\n",
        "> In the coal_consumption_total.csv dataset, (source: The coal consumption, total dataset in energy/coal/ folder on <a href=\"https://www.gapminder.org/data/\">https://www.gapminder.org/data/</a>) the columns are the countries and value of coal consumption each year from 1965 to 2019\n",
        "\n",
        ">In the oil_consumption_total.csv  dataset,(source: The oil consumption, total dataset in energy/oil/ folder on<a href=\"https://www.gapminder.org/data/\">https://www.gapminder.org/data/</a>) the columns are the countries and value of oilconsumption each year from 1965 to 2019\n",
        "\n",
        ">and in the consumption_co2_emissions_1000_tonnes.csv,  (source: The consumption_co2_emissions_1000_tonnes dataset in environments/emissions/ folder  on <a href=\"https://www.gapminder.org/data/\">https://www.gapminder.org/data/</a>) the columns are the countries and value of co2 emissions each year from 1990 to 2017\n",
        "\n",
        "### Question(s) for Analysis\n",
        "><ul>\n",
        "<li><a href=\"#coal\">what is the general trend in the consumption of coal between 2007 and 2017</a></li>\n",
        "<li><a href=\"#oil\">what is the general trend in the consumption of oil between 2007 and 2017</a></li>\n",
        "<li><a href=\"#co2\">what is the general trend in the emission of co2 between 2007 and 2017</a></li>\n",
        "<li><a href=\"#relhigh\">What top 10 countries have the highest coal consumption, oil consumption and emission of co2</a></li>\n",
        "<li><a href=\"#rellow\">What top 10 countries have the lowest coal consumption, oil consumption and emission of co2</a></li>\n",
        "</ul>"
      ]
    },
    {
      "cell_type": "markdown",
      "id": "9210716f",
      "metadata": {
        "id": "9210716f"
      },
      "source": [
        "<a id='wrangling'></a>\n",
        "## Data Wrangling\n"
      ]
    },
    {
      "cell_type": "markdown",
      "source": [
        "#### import libraries that are needed"
      ],
      "metadata": {
        "id": "OcHwCWVR3LkU"
      },
      "id": "OcHwCWVR3LkU"
    },
    {
      "cell_type": "code",
      "execution_count": 1,
      "id": "a1ec81af",
      "metadata": {
        "id": "a1ec81af"
      },
      "outputs": [],
      "source": [
        "import pandas as pd\n",
        "import re\n",
        "\n",
        "import matplotlib.pyplot as plt\n",
        "%matplotlib inline\n",
        "import seaborn as sns"
      ]
    },
    {
      "cell_type": "markdown",
      "id": "460cf162",
      "metadata": {
        "id": "460cf162"
      },
      "source": [
        "### Check relationships between consumption of coal, oil and co2 emissions"
      ]
    },
    {
      "cell_type": "markdown",
      "id": "af4ec9a9",
      "metadata": {
        "id": "af4ec9a9"
      },
      "source": [
        "#### Import dataset on total cosumption of coals from 1965 to 2019 in all countries"
      ]
    },
    {
      "cell_type": "code",
      "execution_count": 2,
      "id": "57622533",
      "metadata": {
        "scrolled": true,
        "colab": {
          "base_uri": "https://localhost:8080/",
          "height": 189
        },
        "id": "57622533",
        "outputId": "bb25bdf4-b98b-4614-8ac6-3637e40cfd36"
      },
      "outputs": [
        {
          "output_type": "execute_result",
          "data": {
            "text/plain": [
              "                country 1965 1966 1967 1968 1969 1970 1971 1972 1973  ...  \\\n",
              "0  United Arab Emirates    0    0    0    0    0    0    0    0    0  ...   \n",
              "\n",
              "   2010  2011   2012   2013   2014   2015   2016   2017   2018   2019  \n",
              "0  658k  445k  1.38M  1.77M  1.97M  1.71M  1.84M  2.13M  2.41M  2.46M  \n",
              "\n",
              "[1 rows x 56 columns]"
            ],
            "text/html": [
              "\n",
              "  <div id=\"df-a1a07f61-f468-4abd-95f0-0e269bf02000\">\n",
              "    <div class=\"colab-df-container\">\n",
              "      <div>\n",
              "<style scoped>\n",
              "    .dataframe tbody tr th:only-of-type {\n",
              "        vertical-align: middle;\n",
              "    }\n",
              "\n",
              "    .dataframe tbody tr th {\n",
              "        vertical-align: top;\n",
              "    }\n",
              "\n",
              "    .dataframe thead th {\n",
              "        text-align: right;\n",
              "    }\n",
              "</style>\n",
              "<table border=\"1\" class=\"dataframe\">\n",
              "  <thead>\n",
              "    <tr style=\"text-align: right;\">\n",
              "      <th></th>\n",
              "      <th>country</th>\n",
              "      <th>1965</th>\n",
              "      <th>1966</th>\n",
              "      <th>1967</th>\n",
              "      <th>1968</th>\n",
              "      <th>1969</th>\n",
              "      <th>1970</th>\n",
              "      <th>1971</th>\n",
              "      <th>1972</th>\n",
              "      <th>1973</th>\n",
              "      <th>...</th>\n",
              "      <th>2010</th>\n",
              "      <th>2011</th>\n",
              "      <th>2012</th>\n",
              "      <th>2013</th>\n",
              "      <th>2014</th>\n",
              "      <th>2015</th>\n",
              "      <th>2016</th>\n",
              "      <th>2017</th>\n",
              "      <th>2018</th>\n",
              "      <th>2019</th>\n",
              "    </tr>\n",
              "  </thead>\n",
              "  <tbody>\n",
              "    <tr>\n",
              "      <th>0</th>\n",
              "      <td>United Arab Emirates</td>\n",
              "      <td>0</td>\n",
              "      <td>0</td>\n",
              "      <td>0</td>\n",
              "      <td>0</td>\n",
              "      <td>0</td>\n",
              "      <td>0</td>\n",
              "      <td>0</td>\n",
              "      <td>0</td>\n",
              "      <td>0</td>\n",
              "      <td>...</td>\n",
              "      <td>658k</td>\n",
              "      <td>445k</td>\n",
              "      <td>1.38M</td>\n",
              "      <td>1.77M</td>\n",
              "      <td>1.97M</td>\n",
              "      <td>1.71M</td>\n",
              "      <td>1.84M</td>\n",
              "      <td>2.13M</td>\n",
              "      <td>2.41M</td>\n",
              "      <td>2.46M</td>\n",
              "    </tr>\n",
              "  </tbody>\n",
              "</table>\n",
              "<p>1 rows × 56 columns</p>\n",
              "</div>\n",
              "      <button class=\"colab-df-convert\" onclick=\"convertToInteractive('df-a1a07f61-f468-4abd-95f0-0e269bf02000')\"\n",
              "              title=\"Convert this dataframe to an interactive table.\"\n",
              "              style=\"display:none;\">\n",
              "        \n",
              "  <svg xmlns=\"http://www.w3.org/2000/svg\" height=\"24px\"viewBox=\"0 0 24 24\"\n",
              "       width=\"24px\">\n",
              "    <path d=\"M0 0h24v24H0V0z\" fill=\"none\"/>\n",
              "    <path d=\"M18.56 5.44l.94 2.06.94-2.06 2.06-.94-2.06-.94-.94-2.06-.94 2.06-2.06.94zm-11 1L8.5 8.5l.94-2.06 2.06-.94-2.06-.94L8.5 2.5l-.94 2.06-2.06.94zm10 10l.94 2.06.94-2.06 2.06-.94-2.06-.94-.94-2.06-.94 2.06-2.06.94z\"/><path d=\"M17.41 7.96l-1.37-1.37c-.4-.4-.92-.59-1.43-.59-.52 0-1.04.2-1.43.59L10.3 9.45l-7.72 7.72c-.78.78-.78 2.05 0 2.83L4 21.41c.39.39.9.59 1.41.59.51 0 1.02-.2 1.41-.59l7.78-7.78 2.81-2.81c.8-.78.8-2.07 0-2.86zM5.41 20L4 18.59l7.72-7.72 1.47 1.35L5.41 20z\"/>\n",
              "  </svg>\n",
              "      </button>\n",
              "      \n",
              "  <style>\n",
              "    .colab-df-container {\n",
              "      display:flex;\n",
              "      flex-wrap:wrap;\n",
              "      gap: 12px;\n",
              "    }\n",
              "\n",
              "    .colab-df-convert {\n",
              "      background-color: #E8F0FE;\n",
              "      border: none;\n",
              "      border-radius: 50%;\n",
              "      cursor: pointer;\n",
              "      display: none;\n",
              "      fill: #1967D2;\n",
              "      height: 32px;\n",
              "      padding: 0 0 0 0;\n",
              "      width: 32px;\n",
              "    }\n",
              "\n",
              "    .colab-df-convert:hover {\n",
              "      background-color: #E2EBFA;\n",
              "      box-shadow: 0px 1px 2px rgba(60, 64, 67, 0.3), 0px 1px 3px 1px rgba(60, 64, 67, 0.15);\n",
              "      fill: #174EA6;\n",
              "    }\n",
              "\n",
              "    [theme=dark] .colab-df-convert {\n",
              "      background-color: #3B4455;\n",
              "      fill: #D2E3FC;\n",
              "    }\n",
              "\n",
              "    [theme=dark] .colab-df-convert:hover {\n",
              "      background-color: #434B5C;\n",
              "      box-shadow: 0px 1px 3px 1px rgba(0, 0, 0, 0.15);\n",
              "      filter: drop-shadow(0px 1px 2px rgba(0, 0, 0, 0.3));\n",
              "      fill: #FFFFFF;\n",
              "    }\n",
              "  </style>\n",
              "\n",
              "      <script>\n",
              "        const buttonEl =\n",
              "          document.querySelector('#df-a1a07f61-f468-4abd-95f0-0e269bf02000 button.colab-df-convert');\n",
              "        buttonEl.style.display =\n",
              "          google.colab.kernel.accessAllowed ? 'block' : 'none';\n",
              "\n",
              "        async function convertToInteractive(key) {\n",
              "          const element = document.querySelector('#df-a1a07f61-f468-4abd-95f0-0e269bf02000');\n",
              "          const dataTable =\n",
              "            await google.colab.kernel.invokeFunction('convertToInteractive',\n",
              "                                                     [key], {});\n",
              "          if (!dataTable) return;\n",
              "\n",
              "          const docLinkHtml = 'Like what you see? Visit the ' +\n",
              "            '<a target=\"_blank\" href=https://colab.research.google.com/notebooks/data_table.ipynb>data table notebook</a>'\n",
              "            + ' to learn more about interactive tables.';\n",
              "          element.innerHTML = '';\n",
              "          dataTable['output_type'] = 'display_data';\n",
              "          await google.colab.output.renderOutput(dataTable, element);\n",
              "          const docLink = document.createElement('div');\n",
              "          docLink.innerHTML = docLinkHtml;\n",
              "          element.appendChild(docLink);\n",
              "        }\n",
              "      </script>\n",
              "    </div>\n",
              "  </div>\n",
              "  "
            ]
          },
          "metadata": {},
          "execution_count": 2
        }
      ],
      "source": [
        "\n",
        "coal_data = pd.read_csv('coal_consumption_total.csv')\n",
        "coal_data.head(1)"
      ]
    },
    {
      "cell_type": "markdown",
      "id": "e5e9af54",
      "metadata": {
        "id": "e5e9af54"
      },
      "source": [
        "#### Import dataset on total cosumption of oil from 1965 to 2019 in all countries"
      ]
    },
    {
      "cell_type": "code",
      "execution_count": 3,
      "id": "c1fec932",
      "metadata": {
        "colab": {
          "base_uri": "https://localhost:8080/",
          "height": 209
        },
        "id": "c1fec932",
        "outputId": "973d8fcb-8192-4c11-dac8-f2175727a0c1"
      },
      "outputs": [
        {
          "output_type": "execute_result",
          "data": {
            "text/plain": [
              "                country   1965   1966   1967   1968 1969  1970  1971  1972  \\\n",
              "0  United Arab Emirates  69.6k  74.3k  79.8k  89.1k  99k  115k  136k  179k   \n",
              "\n",
              "   1973  ...   2010   2011   2012 2013   2014   2015   2016   2017 2018   2019  \n",
              "0  280k  ...  31.3M  33.8M  35.2M  39M  39.3M  42.2M  44.9M  44.2M  46M  44.6M  \n",
              "\n",
              "[1 rows x 56 columns]"
            ],
            "text/html": [
              "\n",
              "  <div id=\"df-174a65d1-5b0e-4e78-9abc-2eee321ba6a4\">\n",
              "    <div class=\"colab-df-container\">\n",
              "      <div>\n",
              "<style scoped>\n",
              "    .dataframe tbody tr th:only-of-type {\n",
              "        vertical-align: middle;\n",
              "    }\n",
              "\n",
              "    .dataframe tbody tr th {\n",
              "        vertical-align: top;\n",
              "    }\n",
              "\n",
              "    .dataframe thead th {\n",
              "        text-align: right;\n",
              "    }\n",
              "</style>\n",
              "<table border=\"1\" class=\"dataframe\">\n",
              "  <thead>\n",
              "    <tr style=\"text-align: right;\">\n",
              "      <th></th>\n",
              "      <th>country</th>\n",
              "      <th>1965</th>\n",
              "      <th>1966</th>\n",
              "      <th>1967</th>\n",
              "      <th>1968</th>\n",
              "      <th>1969</th>\n",
              "      <th>1970</th>\n",
              "      <th>1971</th>\n",
              "      <th>1972</th>\n",
              "      <th>1973</th>\n",
              "      <th>...</th>\n",
              "      <th>2010</th>\n",
              "      <th>2011</th>\n",
              "      <th>2012</th>\n",
              "      <th>2013</th>\n",
              "      <th>2014</th>\n",
              "      <th>2015</th>\n",
              "      <th>2016</th>\n",
              "      <th>2017</th>\n",
              "      <th>2018</th>\n",
              "      <th>2019</th>\n",
              "    </tr>\n",
              "  </thead>\n",
              "  <tbody>\n",
              "    <tr>\n",
              "      <th>0</th>\n",
              "      <td>United Arab Emirates</td>\n",
              "      <td>69.6k</td>\n",
              "      <td>74.3k</td>\n",
              "      <td>79.8k</td>\n",
              "      <td>89.1k</td>\n",
              "      <td>99k</td>\n",
              "      <td>115k</td>\n",
              "      <td>136k</td>\n",
              "      <td>179k</td>\n",
              "      <td>280k</td>\n",
              "      <td>...</td>\n",
              "      <td>31.3M</td>\n",
              "      <td>33.8M</td>\n",
              "      <td>35.2M</td>\n",
              "      <td>39M</td>\n",
              "      <td>39.3M</td>\n",
              "      <td>42.2M</td>\n",
              "      <td>44.9M</td>\n",
              "      <td>44.2M</td>\n",
              "      <td>46M</td>\n",
              "      <td>44.6M</td>\n",
              "    </tr>\n",
              "  </tbody>\n",
              "</table>\n",
              "<p>1 rows × 56 columns</p>\n",
              "</div>\n",
              "      <button class=\"colab-df-convert\" onclick=\"convertToInteractive('df-174a65d1-5b0e-4e78-9abc-2eee321ba6a4')\"\n",
              "              title=\"Convert this dataframe to an interactive table.\"\n",
              "              style=\"display:none;\">\n",
              "        \n",
              "  <svg xmlns=\"http://www.w3.org/2000/svg\" height=\"24px\"viewBox=\"0 0 24 24\"\n",
              "       width=\"24px\">\n",
              "    <path d=\"M0 0h24v24H0V0z\" fill=\"none\"/>\n",
              "    <path d=\"M18.56 5.44l.94 2.06.94-2.06 2.06-.94-2.06-.94-.94-2.06-.94 2.06-2.06.94zm-11 1L8.5 8.5l.94-2.06 2.06-.94-2.06-.94L8.5 2.5l-.94 2.06-2.06.94zm10 10l.94 2.06.94-2.06 2.06-.94-2.06-.94-.94-2.06-.94 2.06-2.06.94z\"/><path d=\"M17.41 7.96l-1.37-1.37c-.4-.4-.92-.59-1.43-.59-.52 0-1.04.2-1.43.59L10.3 9.45l-7.72 7.72c-.78.78-.78 2.05 0 2.83L4 21.41c.39.39.9.59 1.41.59.51 0 1.02-.2 1.41-.59l7.78-7.78 2.81-2.81c.8-.78.8-2.07 0-2.86zM5.41 20L4 18.59l7.72-7.72 1.47 1.35L5.41 20z\"/>\n",
              "  </svg>\n",
              "      </button>\n",
              "      \n",
              "  <style>\n",
              "    .colab-df-container {\n",
              "      display:flex;\n",
              "      flex-wrap:wrap;\n",
              "      gap: 12px;\n",
              "    }\n",
              "\n",
              "    .colab-df-convert {\n",
              "      background-color: #E8F0FE;\n",
              "      border: none;\n",
              "      border-radius: 50%;\n",
              "      cursor: pointer;\n",
              "      display: none;\n",
              "      fill: #1967D2;\n",
              "      height: 32px;\n",
              "      padding: 0 0 0 0;\n",
              "      width: 32px;\n",
              "    }\n",
              "\n",
              "    .colab-df-convert:hover {\n",
              "      background-color: #E2EBFA;\n",
              "      box-shadow: 0px 1px 2px rgba(60, 64, 67, 0.3), 0px 1px 3px 1px rgba(60, 64, 67, 0.15);\n",
              "      fill: #174EA6;\n",
              "    }\n",
              "\n",
              "    [theme=dark] .colab-df-convert {\n",
              "      background-color: #3B4455;\n",
              "      fill: #D2E3FC;\n",
              "    }\n",
              "\n",
              "    [theme=dark] .colab-df-convert:hover {\n",
              "      background-color: #434B5C;\n",
              "      box-shadow: 0px 1px 3px 1px rgba(0, 0, 0, 0.15);\n",
              "      filter: drop-shadow(0px 1px 2px rgba(0, 0, 0, 0.3));\n",
              "      fill: #FFFFFF;\n",
              "    }\n",
              "  </style>\n",
              "\n",
              "      <script>\n",
              "        const buttonEl =\n",
              "          document.querySelector('#df-174a65d1-5b0e-4e78-9abc-2eee321ba6a4 button.colab-df-convert');\n",
              "        buttonEl.style.display =\n",
              "          google.colab.kernel.accessAllowed ? 'block' : 'none';\n",
              "\n",
              "        async function convertToInteractive(key) {\n",
              "          const element = document.querySelector('#df-174a65d1-5b0e-4e78-9abc-2eee321ba6a4');\n",
              "          const dataTable =\n",
              "            await google.colab.kernel.invokeFunction('convertToInteractive',\n",
              "                                                     [key], {});\n",
              "          if (!dataTable) return;\n",
              "\n",
              "          const docLinkHtml = 'Like what you see? Visit the ' +\n",
              "            '<a target=\"_blank\" href=https://colab.research.google.com/notebooks/data_table.ipynb>data table notebook</a>'\n",
              "            + ' to learn more about interactive tables.';\n",
              "          element.innerHTML = '';\n",
              "          dataTable['output_type'] = 'display_data';\n",
              "          await google.colab.output.renderOutput(dataTable, element);\n",
              "          const docLink = document.createElement('div');\n",
              "          docLink.innerHTML = docLinkHtml;\n",
              "          element.appendChild(docLink);\n",
              "        }\n",
              "      </script>\n",
              "    </div>\n",
              "  </div>\n",
              "  "
            ]
          },
          "metadata": {},
          "execution_count": 3
        }
      ],
      "source": [
        "oil_data = pd.read_csv('oil_consumption_total.csv')\n",
        "oil_data.head(1)"
      ]
    },
    {
      "cell_type": "markdown",
      "id": "45ddf0bc",
      "metadata": {
        "id": "45ddf0bc"
      },
      "source": [
        "#### Import dataset on total co2 emmissions from fossil fuels consumption from 1990 to 2017 in all countries"
      ]
    },
    {
      "cell_type": "code",
      "execution_count": 4,
      "id": "6c6e8455",
      "metadata": {
        "colab": {
          "base_uri": "https://localhost:8080/",
          "height": 110
        },
        "id": "6c6e8455",
        "outputId": "0068229c-080a-400d-fbf0-a614fdacce0f"
      },
      "outputs": [
        {
          "output_type": "execute_result",
          "data": {
            "text/plain": [
              "   country  1990  1991  1992  1993  1994  1995  1996  1997  1998  ...  2008  \\\n",
              "0  Albania  5620  4570  2840  2630  2290  2460  2870  2190  2510  ...  6130   \n",
              "\n",
              "   2009  2010  2011  2012  2013  2014  2015  2016  2017  \n",
              "0  6370  6140  6350  6060  5870  6300  5660  5500  5650  \n",
              "\n",
              "[1 rows x 29 columns]"
            ],
            "text/html": [
              "\n",
              "  <div id=\"df-ef1f3871-c229-4e73-bb03-c8fa76bc27cb\">\n",
              "    <div class=\"colab-df-container\">\n",
              "      <div>\n",
              "<style scoped>\n",
              "    .dataframe tbody tr th:only-of-type {\n",
              "        vertical-align: middle;\n",
              "    }\n",
              "\n",
              "    .dataframe tbody tr th {\n",
              "        vertical-align: top;\n",
              "    }\n",
              "\n",
              "    .dataframe thead th {\n",
              "        text-align: right;\n",
              "    }\n",
              "</style>\n",
              "<table border=\"1\" class=\"dataframe\">\n",
              "  <thead>\n",
              "    <tr style=\"text-align: right;\">\n",
              "      <th></th>\n",
              "      <th>country</th>\n",
              "      <th>1990</th>\n",
              "      <th>1991</th>\n",
              "      <th>1992</th>\n",
              "      <th>1993</th>\n",
              "      <th>1994</th>\n",
              "      <th>1995</th>\n",
              "      <th>1996</th>\n",
              "      <th>1997</th>\n",
              "      <th>1998</th>\n",
              "      <th>...</th>\n",
              "      <th>2008</th>\n",
              "      <th>2009</th>\n",
              "      <th>2010</th>\n",
              "      <th>2011</th>\n",
              "      <th>2012</th>\n",
              "      <th>2013</th>\n",
              "      <th>2014</th>\n",
              "      <th>2015</th>\n",
              "      <th>2016</th>\n",
              "      <th>2017</th>\n",
              "    </tr>\n",
              "  </thead>\n",
              "  <tbody>\n",
              "    <tr>\n",
              "      <th>0</th>\n",
              "      <td>Albania</td>\n",
              "      <td>5620</td>\n",
              "      <td>4570</td>\n",
              "      <td>2840</td>\n",
              "      <td>2630</td>\n",
              "      <td>2290</td>\n",
              "      <td>2460</td>\n",
              "      <td>2870</td>\n",
              "      <td>2190</td>\n",
              "      <td>2510</td>\n",
              "      <td>...</td>\n",
              "      <td>6130</td>\n",
              "      <td>6370</td>\n",
              "      <td>6140</td>\n",
              "      <td>6350</td>\n",
              "      <td>6060</td>\n",
              "      <td>5870</td>\n",
              "      <td>6300</td>\n",
              "      <td>5660</td>\n",
              "      <td>5500</td>\n",
              "      <td>5650</td>\n",
              "    </tr>\n",
              "  </tbody>\n",
              "</table>\n",
              "<p>1 rows × 29 columns</p>\n",
              "</div>\n",
              "      <button class=\"colab-df-convert\" onclick=\"convertToInteractive('df-ef1f3871-c229-4e73-bb03-c8fa76bc27cb')\"\n",
              "              title=\"Convert this dataframe to an interactive table.\"\n",
              "              style=\"display:none;\">\n",
              "        \n",
              "  <svg xmlns=\"http://www.w3.org/2000/svg\" height=\"24px\"viewBox=\"0 0 24 24\"\n",
              "       width=\"24px\">\n",
              "    <path d=\"M0 0h24v24H0V0z\" fill=\"none\"/>\n",
              "    <path d=\"M18.56 5.44l.94 2.06.94-2.06 2.06-.94-2.06-.94-.94-2.06-.94 2.06-2.06.94zm-11 1L8.5 8.5l.94-2.06 2.06-.94-2.06-.94L8.5 2.5l-.94 2.06-2.06.94zm10 10l.94 2.06.94-2.06 2.06-.94-2.06-.94-.94-2.06-.94 2.06-2.06.94z\"/><path d=\"M17.41 7.96l-1.37-1.37c-.4-.4-.92-.59-1.43-.59-.52 0-1.04.2-1.43.59L10.3 9.45l-7.72 7.72c-.78.78-.78 2.05 0 2.83L4 21.41c.39.39.9.59 1.41.59.51 0 1.02-.2 1.41-.59l7.78-7.78 2.81-2.81c.8-.78.8-2.07 0-2.86zM5.41 20L4 18.59l7.72-7.72 1.47 1.35L5.41 20z\"/>\n",
              "  </svg>\n",
              "      </button>\n",
              "      \n",
              "  <style>\n",
              "    .colab-df-container {\n",
              "      display:flex;\n",
              "      flex-wrap:wrap;\n",
              "      gap: 12px;\n",
              "    }\n",
              "\n",
              "    .colab-df-convert {\n",
              "      background-color: #E8F0FE;\n",
              "      border: none;\n",
              "      border-radius: 50%;\n",
              "      cursor: pointer;\n",
              "      display: none;\n",
              "      fill: #1967D2;\n",
              "      height: 32px;\n",
              "      padding: 0 0 0 0;\n",
              "      width: 32px;\n",
              "    }\n",
              "\n",
              "    .colab-df-convert:hover {\n",
              "      background-color: #E2EBFA;\n",
              "      box-shadow: 0px 1px 2px rgba(60, 64, 67, 0.3), 0px 1px 3px 1px rgba(60, 64, 67, 0.15);\n",
              "      fill: #174EA6;\n",
              "    }\n",
              "\n",
              "    [theme=dark] .colab-df-convert {\n",
              "      background-color: #3B4455;\n",
              "      fill: #D2E3FC;\n",
              "    }\n",
              "\n",
              "    [theme=dark] .colab-df-convert:hover {\n",
              "      background-color: #434B5C;\n",
              "      box-shadow: 0px 1px 3px 1px rgba(0, 0, 0, 0.15);\n",
              "      filter: drop-shadow(0px 1px 2px rgba(0, 0, 0, 0.3));\n",
              "      fill: #FFFFFF;\n",
              "    }\n",
              "  </style>\n",
              "\n",
              "      <script>\n",
              "        const buttonEl =\n",
              "          document.querySelector('#df-ef1f3871-c229-4e73-bb03-c8fa76bc27cb button.colab-df-convert');\n",
              "        buttonEl.style.display =\n",
              "          google.colab.kernel.accessAllowed ? 'block' : 'none';\n",
              "\n",
              "        async function convertToInteractive(key) {\n",
              "          const element = document.querySelector('#df-ef1f3871-c229-4e73-bb03-c8fa76bc27cb');\n",
              "          const dataTable =\n",
              "            await google.colab.kernel.invokeFunction('convertToInteractive',\n",
              "                                                     [key], {});\n",
              "          if (!dataTable) return;\n",
              "\n",
              "          const docLinkHtml = 'Like what you see? Visit the ' +\n",
              "            '<a target=\"_blank\" href=https://colab.research.google.com/notebooks/data_table.ipynb>data table notebook</a>'\n",
              "            + ' to learn more about interactive tables.';\n",
              "          element.innerHTML = '';\n",
              "          dataTable['output_type'] = 'display_data';\n",
              "          await google.colab.output.renderOutput(dataTable, element);\n",
              "          const docLink = document.createElement('div');\n",
              "          docLink.innerHTML = docLinkHtml;\n",
              "          element.appendChild(docLink);\n",
              "        }\n",
              "      </script>\n",
              "    </div>\n",
              "  </div>\n",
              "  "
            ]
          },
          "metadata": {},
          "execution_count": 4
        }
      ],
      "source": [
        "co2_data = pd.read_csv('consumption_co2_emissions_1000_tonnes.csv')\n",
        "co2_data.head(1)"
      ]
    },
    {
      "cell_type": "markdown",
      "id": "3962c482",
      "metadata": {
        "id": "3962c482"
      },
      "source": [
        "## Data cleaning"
      ]
    },
    {
      "cell_type": "markdown",
      "id": "61a8db3e",
      "metadata": {
        "id": "61a8db3e"
      },
      "source": [
        "#### Limit data to between the years 2007 to 2017"
      ]
    },
    {
      "cell_type": "code",
      "source": [
        "cols = ['country'] + [str(x) for x in range(2007,2018)] # create list to get columns from 2009 to 2017,\n",
        "cols                                                      #with country inclusive\n"
      ],
      "metadata": {
        "colab": {
          "base_uri": "https://localhost:8080/"
        },
        "id": "GITB3NV13708",
        "outputId": "3d133c15-3ad5-4704-d028-e0bf5b0cf232"
      },
      "id": "GITB3NV13708",
      "execution_count": 5,
      "outputs": [
        {
          "output_type": "execute_result",
          "data": {
            "text/plain": [
              "['country',\n",
              " '2007',\n",
              " '2008',\n",
              " '2009',\n",
              " '2010',\n",
              " '2011',\n",
              " '2012',\n",
              " '2013',\n",
              " '2014',\n",
              " '2015',\n",
              " '2016',\n",
              " '2017']"
            ]
          },
          "metadata": {},
          "execution_count": 5
        }
      ]
    },
    {
      "cell_type": "markdown",
      "source": [
        "#### To combine the data from the three indicators to a single data"
      ],
      "metadata": {
        "id": "ZqjNmJKCZ72U"
      },
      "id": "ZqjNmJKCZ72U"
    },
    {
      "cell_type": "code",
      "source": [
        "def clean_data(data, cols, var):\n",
        "  ''' \n",
        "  docstring: clean data and rearrange data according to years https://pandas.pydata.org/docs/reference/api/pandas.melt.html\n",
        "  input: data  - DataFrame, data to melt\n",
        "         cols - string, columns to keep\n",
        "         var - string, name of column values\n",
        "  output: melted DataFrame\n",
        "  '''\n",
        "  data2 = data[cols].copy()\n",
        "  data2 = pd.melt(data2, id_vars=['country'], var_name= 'year', value_name = var)\n",
        "  return data2"
      ],
      "metadata": {
        "id": "vk56cod-4XY0"
      },
      "id": "vk56cod-4XY0",
      "execution_count": 6,
      "outputs": []
    },
    {
      "cell_type": "code",
      "source": [
        "# merge coal_data, oil_data and co2_data after they have been melted\n",
        "data = clean_data(data = coal_data, cols= cols, var = 'coal')\\\n",
        ".merge(clean_data(data = oil_data, cols= cols, var = 'oil'), on = ['country', 'year'])\\\n",
        ".merge(clean_data(data = co2_data, cols= cols, var = 'co2'), on = ['country', 'year'])\n"
      ],
      "metadata": {
        "id": "EIPLOF4fVToN"
      },
      "id": "EIPLOF4fVToN",
      "execution_count": 7,
      "outputs": []
    },
    {
      "cell_type": "code",
      "source": [
        "data.head()"
      ],
      "metadata": {
        "colab": {
          "base_uri": "https://localhost:8080/",
          "height": 206
        },
        "id": "2Q1eEGlDXNKC",
        "outputId": "a1e1a7b9-99b0-48a3-8cce-2086c5fdde7c"
      },
      "id": "2Q1eEGlDXNKC",
      "execution_count": 8,
      "outputs": [
        {
          "output_type": "execute_result",
          "data": {
            "text/plain": [
              "                country  year   coal    oil    co2\n",
              "0  United Arab Emirates  2007   136k  28.7M   203k\n",
              "1             Argentina  2007  1.23M  24.2M   161k\n",
              "2             Australia  2007  55.9M  42.1M   358k\n",
              "3               Austria  2007  3.86M  12.9M   101k\n",
              "4            Azerbaijan  2007   4930  4.52M  32.2k"
            ],
            "text/html": [
              "\n",
              "  <div id=\"df-dfb24aa4-dc08-4b6c-9a23-8d5f285a09b5\">\n",
              "    <div class=\"colab-df-container\">\n",
              "      <div>\n",
              "<style scoped>\n",
              "    .dataframe tbody tr th:only-of-type {\n",
              "        vertical-align: middle;\n",
              "    }\n",
              "\n",
              "    .dataframe tbody tr th {\n",
              "        vertical-align: top;\n",
              "    }\n",
              "\n",
              "    .dataframe thead th {\n",
              "        text-align: right;\n",
              "    }\n",
              "</style>\n",
              "<table border=\"1\" class=\"dataframe\">\n",
              "  <thead>\n",
              "    <tr style=\"text-align: right;\">\n",
              "      <th></th>\n",
              "      <th>country</th>\n",
              "      <th>year</th>\n",
              "      <th>coal</th>\n",
              "      <th>oil</th>\n",
              "      <th>co2</th>\n",
              "    </tr>\n",
              "  </thead>\n",
              "  <tbody>\n",
              "    <tr>\n",
              "      <th>0</th>\n",
              "      <td>United Arab Emirates</td>\n",
              "      <td>2007</td>\n",
              "      <td>136k</td>\n",
              "      <td>28.7M</td>\n",
              "      <td>203k</td>\n",
              "    </tr>\n",
              "    <tr>\n",
              "      <th>1</th>\n",
              "      <td>Argentina</td>\n",
              "      <td>2007</td>\n",
              "      <td>1.23M</td>\n",
              "      <td>24.2M</td>\n",
              "      <td>161k</td>\n",
              "    </tr>\n",
              "    <tr>\n",
              "      <th>2</th>\n",
              "      <td>Australia</td>\n",
              "      <td>2007</td>\n",
              "      <td>55.9M</td>\n",
              "      <td>42.1M</td>\n",
              "      <td>358k</td>\n",
              "    </tr>\n",
              "    <tr>\n",
              "      <th>3</th>\n",
              "      <td>Austria</td>\n",
              "      <td>2007</td>\n",
              "      <td>3.86M</td>\n",
              "      <td>12.9M</td>\n",
              "      <td>101k</td>\n",
              "    </tr>\n",
              "    <tr>\n",
              "      <th>4</th>\n",
              "      <td>Azerbaijan</td>\n",
              "      <td>2007</td>\n",
              "      <td>4930</td>\n",
              "      <td>4.52M</td>\n",
              "      <td>32.2k</td>\n",
              "    </tr>\n",
              "  </tbody>\n",
              "</table>\n",
              "</div>\n",
              "      <button class=\"colab-df-convert\" onclick=\"convertToInteractive('df-dfb24aa4-dc08-4b6c-9a23-8d5f285a09b5')\"\n",
              "              title=\"Convert this dataframe to an interactive table.\"\n",
              "              style=\"display:none;\">\n",
              "        \n",
              "  <svg xmlns=\"http://www.w3.org/2000/svg\" height=\"24px\"viewBox=\"0 0 24 24\"\n",
              "       width=\"24px\">\n",
              "    <path d=\"M0 0h24v24H0V0z\" fill=\"none\"/>\n",
              "    <path d=\"M18.56 5.44l.94 2.06.94-2.06 2.06-.94-2.06-.94-.94-2.06-.94 2.06-2.06.94zm-11 1L8.5 8.5l.94-2.06 2.06-.94-2.06-.94L8.5 2.5l-.94 2.06-2.06.94zm10 10l.94 2.06.94-2.06 2.06-.94-2.06-.94-.94-2.06-.94 2.06-2.06.94z\"/><path d=\"M17.41 7.96l-1.37-1.37c-.4-.4-.92-.59-1.43-.59-.52 0-1.04.2-1.43.59L10.3 9.45l-7.72 7.72c-.78.78-.78 2.05 0 2.83L4 21.41c.39.39.9.59 1.41.59.51 0 1.02-.2 1.41-.59l7.78-7.78 2.81-2.81c.8-.78.8-2.07 0-2.86zM5.41 20L4 18.59l7.72-7.72 1.47 1.35L5.41 20z\"/>\n",
              "  </svg>\n",
              "      </button>\n",
              "      \n",
              "  <style>\n",
              "    .colab-df-container {\n",
              "      display:flex;\n",
              "      flex-wrap:wrap;\n",
              "      gap: 12px;\n",
              "    }\n",
              "\n",
              "    .colab-df-convert {\n",
              "      background-color: #E8F0FE;\n",
              "      border: none;\n",
              "      border-radius: 50%;\n",
              "      cursor: pointer;\n",
              "      display: none;\n",
              "      fill: #1967D2;\n",
              "      height: 32px;\n",
              "      padding: 0 0 0 0;\n",
              "      width: 32px;\n",
              "    }\n",
              "\n",
              "    .colab-df-convert:hover {\n",
              "      background-color: #E2EBFA;\n",
              "      box-shadow: 0px 1px 2px rgba(60, 64, 67, 0.3), 0px 1px 3px 1px rgba(60, 64, 67, 0.15);\n",
              "      fill: #174EA6;\n",
              "    }\n",
              "\n",
              "    [theme=dark] .colab-df-convert {\n",
              "      background-color: #3B4455;\n",
              "      fill: #D2E3FC;\n",
              "    }\n",
              "\n",
              "    [theme=dark] .colab-df-convert:hover {\n",
              "      background-color: #434B5C;\n",
              "      box-shadow: 0px 1px 3px 1px rgba(0, 0, 0, 0.15);\n",
              "      filter: drop-shadow(0px 1px 2px rgba(0, 0, 0, 0.3));\n",
              "      fill: #FFFFFF;\n",
              "    }\n",
              "  </style>\n",
              "\n",
              "      <script>\n",
              "        const buttonEl =\n",
              "          document.querySelector('#df-dfb24aa4-dc08-4b6c-9a23-8d5f285a09b5 button.colab-df-convert');\n",
              "        buttonEl.style.display =\n",
              "          google.colab.kernel.accessAllowed ? 'block' : 'none';\n",
              "\n",
              "        async function convertToInteractive(key) {\n",
              "          const element = document.querySelector('#df-dfb24aa4-dc08-4b6c-9a23-8d5f285a09b5');\n",
              "          const dataTable =\n",
              "            await google.colab.kernel.invokeFunction('convertToInteractive',\n",
              "                                                     [key], {});\n",
              "          if (!dataTable) return;\n",
              "\n",
              "          const docLinkHtml = 'Like what you see? Visit the ' +\n",
              "            '<a target=\"_blank\" href=https://colab.research.google.com/notebooks/data_table.ipynb>data table notebook</a>'\n",
              "            + ' to learn more about interactive tables.';\n",
              "          element.innerHTML = '';\n",
              "          dataTable['output_type'] = 'display_data';\n",
              "          await google.colab.output.renderOutput(dataTable, element);\n",
              "          const docLink = document.createElement('div');\n",
              "          docLink.innerHTML = docLinkHtml;\n",
              "          element.appendChild(docLink);\n",
              "        }\n",
              "      </script>\n",
              "    </div>\n",
              "  </div>\n",
              "  "
            ]
          },
          "metadata": {},
          "execution_count": 8
        }
      ]
    },
    {
      "cell_type": "markdown",
      "source": [
        "#### To convert the format of the values e.g k is 1000, M is 10^6 and B is 10^9"
      ],
      "metadata": {
        "id": "XhOyQlKCaQUx"
      },
      "id": "XhOyQlKCaQUx"
    },
    {
      "cell_type": "code",
      "source": [
        "for column in data.columns[2:]:\n",
        "  data[column] = data[column].replace({'k':'*1e3', 'M':'*1e6', 'B':'*1e9'}, regex = True).map(pd.eval).astype(int)\n",
        "data.head()"
      ],
      "metadata": {
        "colab": {
          "base_uri": "https://localhost:8080/",
          "height": 206
        },
        "id": "4YBFa8OJUqto",
        "outputId": "96c631d9-b31b-4c4d-c612-ab404baef3e4"
      },
      "id": "4YBFa8OJUqto",
      "execution_count": 9,
      "outputs": [
        {
          "output_type": "execute_result",
          "data": {
            "text/plain": [
              "                country  year      coal       oil     co2\n",
              "0  United Arab Emirates  2007    136000  28700000  203000\n",
              "1             Argentina  2007   1230000  24200000  161000\n",
              "2             Australia  2007  55900000  42100000  358000\n",
              "3               Austria  2007   3860000  12900000  101000\n",
              "4            Azerbaijan  2007      4930   4520000   32200"
            ],
            "text/html": [
              "\n",
              "  <div id=\"df-94a39158-9189-46f7-aadd-95313047dbb3\">\n",
              "    <div class=\"colab-df-container\">\n",
              "      <div>\n",
              "<style scoped>\n",
              "    .dataframe tbody tr th:only-of-type {\n",
              "        vertical-align: middle;\n",
              "    }\n",
              "\n",
              "    .dataframe tbody tr th {\n",
              "        vertical-align: top;\n",
              "    }\n",
              "\n",
              "    .dataframe thead th {\n",
              "        text-align: right;\n",
              "    }\n",
              "</style>\n",
              "<table border=\"1\" class=\"dataframe\">\n",
              "  <thead>\n",
              "    <tr style=\"text-align: right;\">\n",
              "      <th></th>\n",
              "      <th>country</th>\n",
              "      <th>year</th>\n",
              "      <th>coal</th>\n",
              "      <th>oil</th>\n",
              "      <th>co2</th>\n",
              "    </tr>\n",
              "  </thead>\n",
              "  <tbody>\n",
              "    <tr>\n",
              "      <th>0</th>\n",
              "      <td>United Arab Emirates</td>\n",
              "      <td>2007</td>\n",
              "      <td>136000</td>\n",
              "      <td>28700000</td>\n",
              "      <td>203000</td>\n",
              "    </tr>\n",
              "    <tr>\n",
              "      <th>1</th>\n",
              "      <td>Argentina</td>\n",
              "      <td>2007</td>\n",
              "      <td>1230000</td>\n",
              "      <td>24200000</td>\n",
              "      <td>161000</td>\n",
              "    </tr>\n",
              "    <tr>\n",
              "      <th>2</th>\n",
              "      <td>Australia</td>\n",
              "      <td>2007</td>\n",
              "      <td>55900000</td>\n",
              "      <td>42100000</td>\n",
              "      <td>358000</td>\n",
              "    </tr>\n",
              "    <tr>\n",
              "      <th>3</th>\n",
              "      <td>Austria</td>\n",
              "      <td>2007</td>\n",
              "      <td>3860000</td>\n",
              "      <td>12900000</td>\n",
              "      <td>101000</td>\n",
              "    </tr>\n",
              "    <tr>\n",
              "      <th>4</th>\n",
              "      <td>Azerbaijan</td>\n",
              "      <td>2007</td>\n",
              "      <td>4930</td>\n",
              "      <td>4520000</td>\n",
              "      <td>32200</td>\n",
              "    </tr>\n",
              "  </tbody>\n",
              "</table>\n",
              "</div>\n",
              "      <button class=\"colab-df-convert\" onclick=\"convertToInteractive('df-94a39158-9189-46f7-aadd-95313047dbb3')\"\n",
              "              title=\"Convert this dataframe to an interactive table.\"\n",
              "              style=\"display:none;\">\n",
              "        \n",
              "  <svg xmlns=\"http://www.w3.org/2000/svg\" height=\"24px\"viewBox=\"0 0 24 24\"\n",
              "       width=\"24px\">\n",
              "    <path d=\"M0 0h24v24H0V0z\" fill=\"none\"/>\n",
              "    <path d=\"M18.56 5.44l.94 2.06.94-2.06 2.06-.94-2.06-.94-.94-2.06-.94 2.06-2.06.94zm-11 1L8.5 8.5l.94-2.06 2.06-.94-2.06-.94L8.5 2.5l-.94 2.06-2.06.94zm10 10l.94 2.06.94-2.06 2.06-.94-2.06-.94-.94-2.06-.94 2.06-2.06.94z\"/><path d=\"M17.41 7.96l-1.37-1.37c-.4-.4-.92-.59-1.43-.59-.52 0-1.04.2-1.43.59L10.3 9.45l-7.72 7.72c-.78.78-.78 2.05 0 2.83L4 21.41c.39.39.9.59 1.41.59.51 0 1.02-.2 1.41-.59l7.78-7.78 2.81-2.81c.8-.78.8-2.07 0-2.86zM5.41 20L4 18.59l7.72-7.72 1.47 1.35L5.41 20z\"/>\n",
              "  </svg>\n",
              "      </button>\n",
              "      \n",
              "  <style>\n",
              "    .colab-df-container {\n",
              "      display:flex;\n",
              "      flex-wrap:wrap;\n",
              "      gap: 12px;\n",
              "    }\n",
              "\n",
              "    .colab-df-convert {\n",
              "      background-color: #E8F0FE;\n",
              "      border: none;\n",
              "      border-radius: 50%;\n",
              "      cursor: pointer;\n",
              "      display: none;\n",
              "      fill: #1967D2;\n",
              "      height: 32px;\n",
              "      padding: 0 0 0 0;\n",
              "      width: 32px;\n",
              "    }\n",
              "\n",
              "    .colab-df-convert:hover {\n",
              "      background-color: #E2EBFA;\n",
              "      box-shadow: 0px 1px 2px rgba(60, 64, 67, 0.3), 0px 1px 3px 1px rgba(60, 64, 67, 0.15);\n",
              "      fill: #174EA6;\n",
              "    }\n",
              "\n",
              "    [theme=dark] .colab-df-convert {\n",
              "      background-color: #3B4455;\n",
              "      fill: #D2E3FC;\n",
              "    }\n",
              "\n",
              "    [theme=dark] .colab-df-convert:hover {\n",
              "      background-color: #434B5C;\n",
              "      box-shadow: 0px 1px 3px 1px rgba(0, 0, 0, 0.15);\n",
              "      filter: drop-shadow(0px 1px 2px rgba(0, 0, 0, 0.3));\n",
              "      fill: #FFFFFF;\n",
              "    }\n",
              "  </style>\n",
              "\n",
              "      <script>\n",
              "        const buttonEl =\n",
              "          document.querySelector('#df-94a39158-9189-46f7-aadd-95313047dbb3 button.colab-df-convert');\n",
              "        buttonEl.style.display =\n",
              "          google.colab.kernel.accessAllowed ? 'block' : 'none';\n",
              "\n",
              "        async function convertToInteractive(key) {\n",
              "          const element = document.querySelector('#df-94a39158-9189-46f7-aadd-95313047dbb3');\n",
              "          const dataTable =\n",
              "            await google.colab.kernel.invokeFunction('convertToInteractive',\n",
              "                                                     [key], {});\n",
              "          if (!dataTable) return;\n",
              "\n",
              "          const docLinkHtml = 'Like what you see? Visit the ' +\n",
              "            '<a target=\"_blank\" href=https://colab.research.google.com/notebooks/data_table.ipynb>data table notebook</a>'\n",
              "            + ' to learn more about interactive tables.';\n",
              "          element.innerHTML = '';\n",
              "          dataTable['output_type'] = 'display_data';\n",
              "          await google.colab.output.renderOutput(dataTable, element);\n",
              "          const docLink = document.createElement('div');\n",
              "          docLink.innerHTML = docLinkHtml;\n",
              "          element.appendChild(docLink);\n",
              "        }\n",
              "      </script>\n",
              "    </div>\n",
              "  </div>\n",
              "  "
            ]
          },
          "metadata": {},
          "execution_count": 9
        }
      ]
    },
    {
      "cell_type": "markdown",
      "source": [
        "#### To check for null values"
      ],
      "metadata": {
        "id": "F_kQVMj2ldql"
      },
      "id": "F_kQVMj2ldql"
    },
    {
      "cell_type": "code",
      "source": [
        "data.isna().sum()"
      ],
      "metadata": {
        "colab": {
          "base_uri": "https://localhost:8080/"
        },
        "id": "wYAZd9ymaGEn",
        "outputId": "b1980a32-715d-4d5e-8afa-e0d3b317225e"
      },
      "id": "wYAZd9ymaGEn",
      "execution_count": 10,
      "outputs": [
        {
          "output_type": "execute_result",
          "data": {
            "text/plain": [
              "country    0\n",
              "year       0\n",
              "coal       0\n",
              "oil        0\n",
              "co2        0\n",
              "dtype: int64"
            ]
          },
          "metadata": {},
          "execution_count": 10
        }
      ]
    },
    {
      "cell_type": "markdown",
      "source": [
        "#### To check for duplicated values"
      ],
      "metadata": {
        "id": "p9QcQv1klmoG"
      },
      "id": "p9QcQv1klmoG"
    },
    {
      "cell_type": "code",
      "source": [
        "data.duplicated().sum()"
      ],
      "metadata": {
        "colab": {
          "base_uri": "https://localhost:8080/"
        },
        "id": "dvZjefMIaZQv",
        "outputId": "060af2ea-65e4-478e-ad64-3f4d306b2a4e"
      },
      "id": "dvZjefMIaZQv",
      "execution_count": 11,
      "outputs": [
        {
          "output_type": "execute_result",
          "data": {
            "text/plain": [
              "0"
            ]
          },
          "metadata": {},
          "execution_count": 11
        }
      ]
    },
    {
      "cell_type": "markdown",
      "source": [
        "#### Check datatypes and change year column to datetime datatype"
      ],
      "metadata": {
        "id": "bWb39gYDltwg"
      },
      "id": "bWb39gYDltwg"
    },
    {
      "cell_type": "code",
      "source": [
        "data['year'] = pd.to_datetime(data['year'])"
      ],
      "metadata": {
        "id": "bQnSzLT5bWoX"
      },
      "id": "bQnSzLT5bWoX",
      "execution_count": 12,
      "outputs": []
    },
    {
      "cell_type": "code",
      "source": [
        "data.dtypes"
      ],
      "metadata": {
        "colab": {
          "base_uri": "https://localhost:8080/"
        },
        "id": "fBhVizDKbQRA",
        "outputId": "a4498512-a9c5-401a-c504-67113f94e950"
      },
      "id": "fBhVizDKbQRA",
      "execution_count": 13,
      "outputs": [
        {
          "output_type": "execute_result",
          "data": {
            "text/plain": [
              "country            object\n",
              "year       datetime64[ns]\n",
              "coal                int64\n",
              "oil                 int64\n",
              "co2                 int64\n",
              "dtype: object"
            ]
          },
          "metadata": {},
          "execution_count": 13
        }
      ]
    },
    {
      "cell_type": "markdown",
      "source": [
        "#### Check for invalid values, outliers"
      ],
      "metadata": {
        "id": "oW04Ca7P1Q5I"
      },
      "id": "oW04Ca7P1Q5I"
    },
    {
      "cell_type": "code",
      "source": [
        "data.describe()"
      ],
      "metadata": {
        "colab": {
          "base_uri": "https://localhost:8080/",
          "height": 300
        },
        "id": "MwbCcKc-1aN-",
        "outputId": "304a5991-17d1-46ca-959e-40ae281f04fc"
      },
      "id": "MwbCcKc-1aN-",
      "execution_count": 14,
      "outputs": [
        {
          "output_type": "execute_result",
          "data": {
            "text/plain": [
              "               coal           oil           co2\n",
              "count  8.030000e+02  8.030000e+02  8.030000e+02\n",
              "mean   4.993194e+07  5.263674e+07  4.294369e+05\n",
              "std    2.202716e+08  1.129780e+08  1.133047e+06\n",
              "min    0.000000e+00  1.330000e+06  7.770000e+03\n",
              "25%    8.115000e+05  8.100000e+06  5.735000e+04\n",
              "50%    4.280000e+06  1.590000e+07  1.140000e+05\n",
              "75%    1.765000e+07  5.220000e+07  3.530000e+05\n",
              "max    1.970000e+09  9.080000e+08  8.560000e+06"
            ],
            "text/html": [
              "\n",
              "  <div id=\"df-19217d2b-ac60-494d-a499-33fb9c05c41e\">\n",
              "    <div class=\"colab-df-container\">\n",
              "      <div>\n",
              "<style scoped>\n",
              "    .dataframe tbody tr th:only-of-type {\n",
              "        vertical-align: middle;\n",
              "    }\n",
              "\n",
              "    .dataframe tbody tr th {\n",
              "        vertical-align: top;\n",
              "    }\n",
              "\n",
              "    .dataframe thead th {\n",
              "        text-align: right;\n",
              "    }\n",
              "</style>\n",
              "<table border=\"1\" class=\"dataframe\">\n",
              "  <thead>\n",
              "    <tr style=\"text-align: right;\">\n",
              "      <th></th>\n",
              "      <th>coal</th>\n",
              "      <th>oil</th>\n",
              "      <th>co2</th>\n",
              "    </tr>\n",
              "  </thead>\n",
              "  <tbody>\n",
              "    <tr>\n",
              "      <th>count</th>\n",
              "      <td>8.030000e+02</td>\n",
              "      <td>8.030000e+02</td>\n",
              "      <td>8.030000e+02</td>\n",
              "    </tr>\n",
              "    <tr>\n",
              "      <th>mean</th>\n",
              "      <td>4.993194e+07</td>\n",
              "      <td>5.263674e+07</td>\n",
              "      <td>4.294369e+05</td>\n",
              "    </tr>\n",
              "    <tr>\n",
              "      <th>std</th>\n",
              "      <td>2.202716e+08</td>\n",
              "      <td>1.129780e+08</td>\n",
              "      <td>1.133047e+06</td>\n",
              "    </tr>\n",
              "    <tr>\n",
              "      <th>min</th>\n",
              "      <td>0.000000e+00</td>\n",
              "      <td>1.330000e+06</td>\n",
              "      <td>7.770000e+03</td>\n",
              "    </tr>\n",
              "    <tr>\n",
              "      <th>25%</th>\n",
              "      <td>8.115000e+05</td>\n",
              "      <td>8.100000e+06</td>\n",
              "      <td>5.735000e+04</td>\n",
              "    </tr>\n",
              "    <tr>\n",
              "      <th>50%</th>\n",
              "      <td>4.280000e+06</td>\n",
              "      <td>1.590000e+07</td>\n",
              "      <td>1.140000e+05</td>\n",
              "    </tr>\n",
              "    <tr>\n",
              "      <th>75%</th>\n",
              "      <td>1.765000e+07</td>\n",
              "      <td>5.220000e+07</td>\n",
              "      <td>3.530000e+05</td>\n",
              "    </tr>\n",
              "    <tr>\n",
              "      <th>max</th>\n",
              "      <td>1.970000e+09</td>\n",
              "      <td>9.080000e+08</td>\n",
              "      <td>8.560000e+06</td>\n",
              "    </tr>\n",
              "  </tbody>\n",
              "</table>\n",
              "</div>\n",
              "      <button class=\"colab-df-convert\" onclick=\"convertToInteractive('df-19217d2b-ac60-494d-a499-33fb9c05c41e')\"\n",
              "              title=\"Convert this dataframe to an interactive table.\"\n",
              "              style=\"display:none;\">\n",
              "        \n",
              "  <svg xmlns=\"http://www.w3.org/2000/svg\" height=\"24px\"viewBox=\"0 0 24 24\"\n",
              "       width=\"24px\">\n",
              "    <path d=\"M0 0h24v24H0V0z\" fill=\"none\"/>\n",
              "    <path d=\"M18.56 5.44l.94 2.06.94-2.06 2.06-.94-2.06-.94-.94-2.06-.94 2.06-2.06.94zm-11 1L8.5 8.5l.94-2.06 2.06-.94-2.06-.94L8.5 2.5l-.94 2.06-2.06.94zm10 10l.94 2.06.94-2.06 2.06-.94-2.06-.94-.94-2.06-.94 2.06-2.06.94z\"/><path d=\"M17.41 7.96l-1.37-1.37c-.4-.4-.92-.59-1.43-.59-.52 0-1.04.2-1.43.59L10.3 9.45l-7.72 7.72c-.78.78-.78 2.05 0 2.83L4 21.41c.39.39.9.59 1.41.59.51 0 1.02-.2 1.41-.59l7.78-7.78 2.81-2.81c.8-.78.8-2.07 0-2.86zM5.41 20L4 18.59l7.72-7.72 1.47 1.35L5.41 20z\"/>\n",
              "  </svg>\n",
              "      </button>\n",
              "      \n",
              "  <style>\n",
              "    .colab-df-container {\n",
              "      display:flex;\n",
              "      flex-wrap:wrap;\n",
              "      gap: 12px;\n",
              "    }\n",
              "\n",
              "    .colab-df-convert {\n",
              "      background-color: #E8F0FE;\n",
              "      border: none;\n",
              "      border-radius: 50%;\n",
              "      cursor: pointer;\n",
              "      display: none;\n",
              "      fill: #1967D2;\n",
              "      height: 32px;\n",
              "      padding: 0 0 0 0;\n",
              "      width: 32px;\n",
              "    }\n",
              "\n",
              "    .colab-df-convert:hover {\n",
              "      background-color: #E2EBFA;\n",
              "      box-shadow: 0px 1px 2px rgba(60, 64, 67, 0.3), 0px 1px 3px 1px rgba(60, 64, 67, 0.15);\n",
              "      fill: #174EA6;\n",
              "    }\n",
              "\n",
              "    [theme=dark] .colab-df-convert {\n",
              "      background-color: #3B4455;\n",
              "      fill: #D2E3FC;\n",
              "    }\n",
              "\n",
              "    [theme=dark] .colab-df-convert:hover {\n",
              "      background-color: #434B5C;\n",
              "      box-shadow: 0px 1px 3px 1px rgba(0, 0, 0, 0.15);\n",
              "      filter: drop-shadow(0px 1px 2px rgba(0, 0, 0, 0.3));\n",
              "      fill: #FFFFFF;\n",
              "    }\n",
              "  </style>\n",
              "\n",
              "      <script>\n",
              "        const buttonEl =\n",
              "          document.querySelector('#df-19217d2b-ac60-494d-a499-33fb9c05c41e button.colab-df-convert');\n",
              "        buttonEl.style.display =\n",
              "          google.colab.kernel.accessAllowed ? 'block' : 'none';\n",
              "\n",
              "        async function convertToInteractive(key) {\n",
              "          const element = document.querySelector('#df-19217d2b-ac60-494d-a499-33fb9c05c41e');\n",
              "          const dataTable =\n",
              "            await google.colab.kernel.invokeFunction('convertToInteractive',\n",
              "                                                     [key], {});\n",
              "          if (!dataTable) return;\n",
              "\n",
              "          const docLinkHtml = 'Like what you see? Visit the ' +\n",
              "            '<a target=\"_blank\" href=https://colab.research.google.com/notebooks/data_table.ipynb>data table notebook</a>'\n",
              "            + ' to learn more about interactive tables.';\n",
              "          element.innerHTML = '';\n",
              "          dataTable['output_type'] = 'display_data';\n",
              "          await google.colab.output.renderOutput(dataTable, element);\n",
              "          const docLink = document.createElement('div');\n",
              "          docLink.innerHTML = docLinkHtml;\n",
              "          element.appendChild(docLink);\n",
              "        }\n",
              "      </script>\n",
              "    </div>\n",
              "  </div>\n",
              "  "
            ]
          },
          "metadata": {},
          "execution_count": 14
        }
      ]
    },
    {
      "cell_type": "markdown",
      "id": "09405f74",
      "metadata": {
        "id": "09405f74"
      },
      "source": [
        "<a id='eda'></a>\n",
        "## EDA"
      ]
    },
    {
      "cell_type": "markdown",
      "id": "ff37f127",
      "metadata": {
        "id": "ff37f127"
      },
      "source": [
        "<a id='coal'></a>\n",
        "### average consumption of coal by all countries each year between 2007 and 2017"
      ]
    },
    {
      "cell_type": "code",
      "source": [
        "def trend_plot(column, name):\n",
        "  ''' \n",
        "  docstring: plot trend in average consumption of coal, oil and co2 emissions by all countries each year between 2007 and 2017\n",
        "  input: column - string,columns to plot\n",
        "         name - string, name of plot\n",
        "  output: plot\n",
        "'''\n",
        "  plt.figure(figsize = (10,5))\n",
        "  data.groupby('year').mean()[column].plot()\n",
        "  plt.title(f'Trend in {name} from 2007 to 2017', fontdict ={'fontsize': 14, \n",
        "  'verticalalignment': 'center_baseline', 'color': 'red'}, pad =15)\n",
        "  plt.xlabel('years', labelpad= 10, fontdict ={'fontsize': 14, \n",
        "  'verticalalignment': 'center_baseline', 'color': 'red'});\n",
        "  plt.ylabel(f'average {name} ', labelpad= 10, fontdict ={'fontsize': 14, \n",
        "  'verticalalignment': 'center_baseline', 'color': 'red'});\n",
        "\n"
      ],
      "metadata": {
        "id": "wMr36UEnfY1u"
      },
      "id": "wMr36UEnfY1u",
      "execution_count": 15,
      "outputs": []
    },
    {
      "cell_type": "code",
      "source": [
        "trend_plot('coal', 'consumption of coal')"
      ],
      "metadata": {
        "colab": {
          "base_uri": "https://localhost:8080/",
          "height": 359
        },
        "id": "W8YrLGEjgaWi",
        "outputId": "882a2251-d10b-4aff-83d8-2713e4ecc50f"
      },
      "id": "W8YrLGEjgaWi",
      "execution_count": 16,
      "outputs": [
        {
          "output_type": "display_data",
          "data": {
            "text/plain": [
              "<Figure size 720x360 with 1 Axes>"
            ],
            "image/png": "[encoded data removed]"
          },
          "metadata": {
            "needs_background": "light"
          }
        }
      ]
    },
    {
      "cell_type": "markdown",
      "source": [
        "**From 2009 there has been exponential growth in coal consumption and  a decline from 2014**"
      ],
      "metadata": {
        "id": "7OCneAiUwF5K"
      },
      "id": "7OCneAiUwF5K"
    },
    {
      "cell_type": "markdown",
      "id": "a2863766",
      "metadata": {
        "id": "a2863766"
      },
      "source": [
        "<a id='oil'></a>\n",
        "### average consumption of oil between 2007 and 2017"
      ]
    },
    {
      "cell_type": "code",
      "execution_count": 17,
      "id": "7cf87a2f",
      "metadata": {
        "colab": {
          "base_uri": "https://localhost:8080/",
          "height": 359
        },
        "id": "7cf87a2f",
        "outputId": "943ec9be-0fdc-4b20-b6a9-984a7eafd07b"
      },
      "outputs": [
        {
          "output_type": "display_data",
          "data": {
            "text/plain": [
              "<Figure size 720x360 with 1 Axes>"
            ],
            "image/png": "[encoded data removed]"
          },
          "metadata": {
            "needs_background": "light"
          }
        }
      ],
      "source": [
        "trend_plot('oil','consumption of oil')"
      ]
    },
    {
      "cell_type": "markdown",
      "source": [
        "**From 2009 there has been exponential growth in oil consumption**"
      ],
      "metadata": {
        "id": "aOMlEl8BxJS2"
      },
      "id": "aOMlEl8BxJS2"
    },
    {
      "cell_type": "markdown",
      "id": "a55ff7b1",
      "metadata": {
        "id": "a55ff7b1"
      },
      "source": [
        "<a id='co2'></a>\n",
        "### average co2 emissions from fossil fuels consumption between 2007 and 2017"
      ]
    },
    {
      "cell_type": "code",
      "execution_count": 18,
      "id": "74160b4b",
      "metadata": {
        "colab": {
          "base_uri": "https://localhost:8080/",
          "height": 359
        },
        "id": "74160b4b",
        "outputId": "888478cf-3734-49b5-f608-7c25c9e16157"
      },
      "outputs": [
        {
          "output_type": "display_data",
          "data": {
            "text/plain": [
              "<Figure size 720x360 with 1 Axes>"
            ],
            "image/png": "[encoded data removed]"
          },
          "metadata": {
            "needs_background": "light"
          }
        }
      ],
      "source": [
        "trend_plot('co2', 'co2 emissions')"
      ]
    },
    {
      "cell_type": "markdown",
      "source": [
        "**From 2009 there has been exponential growth in co2 emission**"
      ],
      "metadata": {
        "id": "l-0QIpnnxP-h"
      },
      "id": "l-0QIpnnxP-h"
    },
    {
      "cell_type": "markdown",
      "id": "245f48a9",
      "metadata": {
        "id": "245f48a9"
      },
      "source": [
        "### average coal consumption, oil consumption and emmission of co2 per country"
      ]
    },
    {
      "cell_type": "code",
      "source": [
        "def countries_plot(column, sort, name, level):\n",
        "  ''' \n",
        "  docstring: plot top 10 countries that have the lowest and highest coal consumption,\n",
        "   oil consumption and emmission of co2\n",
        "  input: column - string, columns to plot\n",
        "         sort - bool, if it should sort in ascending order\n",
        "         name - string, name of plot\n",
        "         level - string, lowest or highest\n",
        "  output: plot\n",
        "  '''\n",
        "  plt.figure(figsize = (10,5))\n",
        "  data.groupby('country').mean()[column].sort_values(ascending = sort).head(10).plot(kind ='bar')\n",
        "  plt.xlabel('countries',  fontdict = {'fontsize':20, 'fontweight': 'bold', 'color':'red'})\n",
        "  plt.ylabel(f'average {name}',  fontdict = {'fontsize':20,\\\n",
        "                                            'fontweight': 'bold', 'color':'red'}, labelpad = 15)\n",
        "  plt.title(f'Top 10 countries with  {level}  {name} between 2007 to 2017',\\\n",
        "          fontdict = {'fontsize':20, 'fontweight': 'bold', 'color':'blue'}, pad = 15);"
      ],
      "metadata": {
        "id": "7oQYnvItiCT3"
      },
      "id": "7oQYnvItiCT3",
      "execution_count": 19,
      "outputs": []
    },
    {
      "cell_type": "markdown",
      "id": "f280c3e9",
      "metadata": {
        "id": "f280c3e9"
      },
      "source": [
        "<a id='rellow'></a>\n",
        "### top 10 countries that have the lowest coal consumption, oil consumption and emmission of co2\n"
      ]
    },
    {
      "cell_type": "markdown",
      "id": "24a7ca67",
      "metadata": {
        "id": "24a7ca67"
      },
      "source": [
        "#### coal consumption"
      ]
    },
    {
      "cell_type": "code",
      "source": [
        "countries_plot('coal', True, 'coal\\nconsumption', 'lowest')"
      ],
      "metadata": {
        "colab": {
          "base_uri": "https://localhost:8080/",
          "height": 484
        },
        "id": "FeF2Vv-TdkOx",
        "outputId": "458d50bc-54a4-4e35-f0ec-778feb2e863b"
      },
      "id": "FeF2Vv-TdkOx",
      "execution_count": 20,
      "outputs": [
        {
          "output_type": "display_data",
          "data": {
            "text/plain": [
              "<Figure size 720x360 with 1 Axes>"
            ],
            "image/png": "[encoded data removed]"
          },
          "metadata": {
            "needs_background": "light"
          }
        }
      ]
    },
    {
      "cell_type": "markdown",
      "source": [
        "**Ecuador, Trindad and Tobago, Qatar seem to have 0 coal consumption and the other countries in the plot have lesser coal consumption compared to other countries**"
      ],
      "metadata": {
        "id": "loBSWAP5xjiM"
      },
      "id": "loBSWAP5xjiM"
    },
    {
      "cell_type": "markdown",
      "source": [
        "#### Oil consumption"
      ],
      "metadata": {
        "id": "FfIrl6J9cSzw"
      },
      "id": "FfIrl6J9cSzw"
    },
    {
      "cell_type": "code",
      "source": [
        "countries_plot('oil', True, ' emmission \\n of co2', 'lowest')"
      ],
      "metadata": {
        "id": "YOvejMrcdkam",
        "colab": {
          "base_uri": "https://localhost:8080/",
          "height": 484
        },
        "outputId": "f8195298-05b9-4c44-f6cf-8eb53ec64640"
      },
      "id": "YOvejMrcdkam",
      "execution_count": 21,
      "outputs": [
        {
          "output_type": "display_data",
          "data": {
            "text/plain": [
              "<Figure size 720x360 with 1 Axes>"
            ],
            "image/png": "[encoded data removed]"
          },
          "metadata": {
            "needs_background": "light"
          }
        }
      ]
    },
    {
      "cell_type": "markdown",
      "source": [
        "**Estonia is the country with least oil consumption and the other countries in the plot have lesser oil consumption compared to other countries**"
      ],
      "metadata": {
        "id": "oZUs2Yy6zE6E"
      },
      "id": "oZUs2Yy6zE6E"
    },
    {
      "cell_type": "markdown",
      "source": [
        "#### co2 emmissions"
      ],
      "metadata": {
        "id": "iaHX0bLucmf_"
      },
      "id": "iaHX0bLucmf_"
    },
    {
      "cell_type": "code",
      "source": [
        "countries_plot('co2', True, 'emmission of co2', 'lowest')"
      ],
      "metadata": {
        "colab": {
          "base_uri": "https://localhost:8080/",
          "height": 462
        },
        "id": "84IzHNpxdyj-",
        "outputId": "a03536a0-a533-49b1-d4aa-2466162d19b5"
      },
      "id": "84IzHNpxdyj-",
      "execution_count": 22,
      "outputs": [
        {
          "output_type": "display_data",
          "data": {
            "text/plain": [
              "<Figure size 720x360 with 1 Axes>"
            ],
            "image/png": "[encoded data removed]"
          },
          "metadata": {
            "needs_background": "light"
          }
        }
      ]
    },
    {
      "cell_type": "markdown",
      "source": [
        "**Cyprus is the country with least co2 emission and the other countries in the plot have lesser co2 emission compared to other countries**"
      ],
      "metadata": {
        "id": "wJfrB2wMziaF"
      },
      "id": "wJfrB2wMziaF"
    },
    {
      "cell_type": "markdown",
      "id": "1971cc2c",
      "metadata": {
        "id": "1971cc2c"
      },
      "source": [
        "<a id='relhigh'></a>\n",
        "### top 10 countries that have the highest coal consumption, oil consumption and emmission of co2\n"
      ]
    },
    {
      "cell_type": "markdown",
      "metadata": {
        "id": "WHuiy0D1x-bx"
      },
      "source": [
        "#### coal consumption"
      ],
      "id": "WHuiy0D1x-bx"
    },
    {
      "cell_type": "code",
      "source": [
        "countries_plot('coal', False, 'coal\\nconsumption', 'highest')"
      ],
      "metadata": {
        "colab": {
          "base_uri": "https://localhost:8080/",
          "height": 452
        },
        "id": "d6cdfrfqdimR",
        "outputId": "3c7dcd13-1aa7-466e-88ec-fcb2546b3edd"
      },
      "id": "d6cdfrfqdimR",
      "execution_count": 23,
      "outputs": [
        {
          "output_type": "display_data",
          "data": {
            "text/plain": [
              "<Figure size 720x360 with 1 Axes>"
            ],
            "image/png": "[encoded data removed]"
          },
          "metadata": {
            "needs_background": "light"
          }
        }
      ]
    },
    {
      "cell_type": "markdown",
      "source": [
        "<b> United States, china have the highest consumption. </b>"
      ],
      "metadata": {
        "id": "4GiEVX2HAmHN"
      },
      "id": "4GiEVX2HAmHN"
    },
    {
      "cell_type": "markdown",
      "source": [
        "#### Oil consumption"
      ],
      "metadata": {
        "id": "rJuwil3AyPL4"
      },
      "id": "rJuwil3AyPL4"
    },
    {
      "cell_type": "code",
      "source": [
        "countries_plot('oil', False, 'oil\\nconsumption', 'highest')"
      ],
      "metadata": {
        "colab": {
          "base_uri": "https://localhost:8080/",
          "height": 452
        },
        "id": "PC8aTYArc1pQ",
        "outputId": "802880e1-2023-44b0-e697-9ebc3b4e7f78"
      },
      "id": "PC8aTYArc1pQ",
      "execution_count": 24,
      "outputs": [
        {
          "output_type": "display_data",
          "data": {
            "text/plain": [
              "<Figure size 720x360 with 1 Axes>"
            ],
            "image/png": "[encoded data removed]"
          },
          "metadata": {
            "needs_background": "light"
          }
        }
      ]
    },
    {
      "cell_type": "markdown",
      "source": [
        "<b> United States, china have the highest consumption. </b>"
      ],
      "metadata": {
        "id": "F606FhsuArR_"
      },
      "id": "F606FhsuArR_"
    },
    {
      "cell_type": "markdown",
      "source": [
        "#### co2 emmissions"
      ],
      "metadata": {
        "id": "GOeArcWhyYLI"
      },
      "id": "GOeArcWhyYLI"
    },
    {
      "cell_type": "code",
      "source": [
        "countries_plot('co2', False, 'emission of co2', 'highest')"
      ],
      "metadata": {
        "colab": {
          "base_uri": "https://localhost:8080/",
          "height": 443
        },
        "id": "MnrLQQ5QciWg",
        "outputId": "70591635-f3aa-4ffe-bef2-cd0a7cf32eb1"
      },
      "id": "MnrLQQ5QciWg",
      "execution_count": 25,
      "outputs": [
        {
          "output_type": "display_data",
          "data": {
            "text/plain": [
              "<Figure size 720x360 with 1 Axes>"
            ],
            "image/png": "[encoded data removed]"
          },
          "metadata": {
            "needs_background": "light"
          }
        }
      ]
    },
    {
      "cell_type": "markdown",
      "source": [
        "<b> United States, china have the highest emission. </b>"
      ],
      "metadata": {
        "id": "xUUmHiInAwlN"
      },
      "id": "xUUmHiInAwlN"
    },
    {
      "cell_type": "markdown",
      "id": "e4edfd81",
      "metadata": {
        "id": "e4edfd81"
      },
      "source": [
        "#### Because United States, china, india, Japan have both high consumption and emission.I want to check the  relationship of the three indicators in these countries during the decade"
      ]
    },
    {
      "cell_type": "code",
      "source": [
        "def count(df, countryname):\n",
        "  country_data = df.query(countryname)\n",
        "  country_data =country_data[df.columns[1:].to_list()]\n",
        "  country_data.index = country_data['year']\n",
        "  country_data = country_data.drop(['year'], axis = 1)\n",
        "  return country_data"
      ],
      "metadata": {
        "id": "tCSt05kG39-P"
      },
      "id": "tCSt05kG39-P",
      "execution_count": 26,
      "outputs": []
    },
    {
      "cell_type": "code",
      "source": [
        "def rel_plot(df, country):\n",
        "  df.plot(subplots = True, figsize = (10,8), title =[f'consumption of coal in {country}',\n",
        "       f'consumption of oil in {country}',\n",
        "      f'emmission of co2 in {country}'],)"
      ],
      "metadata": {
        "id": "upsTRbuRkcZX"
      },
      "id": "upsTRbuRkcZX",
      "execution_count": 27,
      "outputs": []
    },
    {
      "cell_type": "markdown",
      "source": [
        "#### Data on United States"
      ],
      "metadata": {
        "id": "OleHw8Lstm1c"
      },
      "id": "OleHw8Lstm1c"
    },
    {
      "cell_type": "code",
      "source": [
        "us = count(df = data, countryname = \"country == 'United States'\")\n",
        "us"
      ],
      "metadata": {
        "colab": {
          "base_uri": "https://localhost:8080/",
          "height": 425
        },
        "id": "hqhN5tkM5mWM",
        "outputId": "afa3bd89-d9cc-40dd-a597-c91e6280f8ba"
      },
      "id": "hqhN5tkM5mWM",
      "execution_count": 28,
      "outputs": [
        {
          "output_type": "execute_result",
          "data": {
            "text/plain": [
              "                 coal        oil      co2\n",
              "year                                     \n",
              "2007-01-01  545000000  908000000  6590000\n",
              "2008-01-01  536000000  847000000  6320000\n",
              "2009-01-01  471000000  801000000  5830000\n",
              "2010-01-01  499000000  813000000  6040000\n",
              "2011-01-01  471000000  796000000  6010000\n",
              "2012-01-01  416000000  778000000  5790000\n",
              "2013-01-01  432000000  791000000  5900000\n",
              "2014-01-01  431000000  796000000  5940000\n",
              "2015-01-01  372000000  813000000  5810000\n",
              "2016-01-01  341000000  818000000  5700000\n",
              "2017-01-01  331000000  826000000  5690000"
            ],
            "text/html": [
              "\n",
              "  <div id=\"df-e104b14d-238c-4b82-9378-f103534d25bd\">\n",
              "    <div class=\"colab-df-container\">\n",
              "      <div>\n",
              "<style scoped>\n",
              "    .dataframe tbody tr th:only-of-type {\n",
              "        vertical-align: middle;\n",
              "    }\n",
              "\n",
              "    .dataframe tbody tr th {\n",
              "        vertical-align: top;\n",
              "    }\n",
              "\n",
              "    .dataframe thead th {\n",
              "        text-align: right;\n",
              "    }\n",
              "</style>\n",
              "<table border=\"1\" class=\"dataframe\">\n",
              "  <thead>\n",
              "    <tr style=\"text-align: right;\">\n",
              "      <th></th>\n",
              "      <th>coal</th>\n",
              "      <th>oil</th>\n",
              "      <th>co2</th>\n",
              "    </tr>\n",
              "    <tr>\n",
              "      <th>year</th>\n",
              "      <th></th>\n",
              "      <th></th>\n",
              "      <th></th>\n",
              "    </tr>\n",
              "  </thead>\n",
              "  <tbody>\n",
              "    <tr>\n",
              "      <th>2007-01-01</th>\n",
              "      <td>545000000</td>\n",
              "      <td>908000000</td>\n",
              "      <td>6590000</td>\n",
              "    </tr>\n",
              "    <tr>\n",
              "      <th>2008-01-01</th>\n",
              "      <td>536000000</td>\n",
              "      <td>847000000</td>\n",
              "      <td>6320000</td>\n",
              "    </tr>\n",
              "    <tr>\n",
              "      <th>2009-01-01</th>\n",
              "      <td>471000000</td>\n",
              "      <td>801000000</td>\n",
              "      <td>5830000</td>\n",
              "    </tr>\n",
              "    <tr>\n",
              "      <th>2010-01-01</th>\n",
              "      <td>499000000</td>\n",
              "      <td>813000000</td>\n",
              "      <td>6040000</td>\n",
              "    </tr>\n",
              "    <tr>\n",
              "      <th>2011-01-01</th>\n",
              "      <td>471000000</td>\n",
              "      <td>796000000</td>\n",
              "      <td>6010000</td>\n",
              "    </tr>\n",
              "    <tr>\n",
              "      <th>2012-01-01</th>\n",
              "      <td>416000000</td>\n",
              "      <td>778000000</td>\n",
              "      <td>5790000</td>\n",
              "    </tr>\n",
              "    <tr>\n",
              "      <th>2013-01-01</th>\n",
              "      <td>432000000</td>\n",
              "      <td>791000000</td>\n",
              "      <td>5900000</td>\n",
              "    </tr>\n",
              "    <tr>\n",
              "      <th>2014-01-01</th>\n",
              "      <td>431000000</td>\n",
              "      <td>796000000</td>\n",
              "      <td>5940000</td>\n",
              "    </tr>\n",
              "    <tr>\n",
              "      <th>2015-01-01</th>\n",
              "      <td>372000000</td>\n",
              "      <td>813000000</td>\n",
              "      <td>5810000</td>\n",
              "    </tr>\n",
              "    <tr>\n",
              "      <th>2016-01-01</th>\n",
              "      <td>341000000</td>\n",
              "      <td>818000000</td>\n",
              "      <td>5700000</td>\n",
              "    </tr>\n",
              "    <tr>\n",
              "      <th>2017-01-01</th>\n",
              "      <td>331000000</td>\n",
              "      <td>826000000</td>\n",
              "      <td>5690000</td>\n",
              "    </tr>\n",
              "  </tbody>\n",
              "</table>\n",
              "</div>\n",
              "      <button class=\"colab-df-convert\" onclick=\"convertToInteractive('df-e104b14d-238c-4b82-9378-f103534d25bd')\"\n",
              "              title=\"Convert this dataframe to an interactive table.\"\n",
              "              style=\"display:none;\">\n",
              "        \n",
              "  <svg xmlns=\"http://www.w3.org/2000/svg\" height=\"24px\"viewBox=\"0 0 24 24\"\n",
              "       width=\"24px\">\n",
              "    <path d=\"M0 0h24v24H0V0z\" fill=\"none\"/>\n",
              "    <path d=\"M18.56 5.44l.94 2.06.94-2.06 2.06-.94-2.06-.94-.94-2.06-.94 2.06-2.06.94zm-11 1L8.5 8.5l.94-2.06 2.06-.94-2.06-.94L8.5 2.5l-.94 2.06-2.06.94zm10 10l.94 2.06.94-2.06 2.06-.94-2.06-.94-.94-2.06-.94 2.06-2.06.94z\"/><path d=\"M17.41 7.96l-1.37-1.37c-.4-.4-.92-.59-1.43-.59-.52 0-1.04.2-1.43.59L10.3 9.45l-7.72 7.72c-.78.78-.78 2.05 0 2.83L4 21.41c.39.39.9.59 1.41.59.51 0 1.02-.2 1.41-.59l7.78-7.78 2.81-2.81c.8-.78.8-2.07 0-2.86zM5.41 20L4 18.59l7.72-7.72 1.47 1.35L5.41 20z\"/>\n",
              "  </svg>\n",
              "      </button>\n",
              "      \n",
              "  <style>\n",
              "    .colab-df-container {\n",
              "      display:flex;\n",
              "      flex-wrap:wrap;\n",
              "      gap: 12px;\n",
              "    }\n",
              "\n",
              "    .colab-df-convert {\n",
              "      background-color: #E8F0FE;\n",
              "      border: none;\n",
              "      border-radius: 50%;\n",
              "      cursor: pointer;\n",
              "      display: none;\n",
              "      fill: #1967D2;\n",
              "      height: 32px;\n",
              "      padding: 0 0 0 0;\n",
              "      width: 32px;\n",
              "    }\n",
              "\n",
              "    .colab-df-convert:hover {\n",
              "      background-color: #E2EBFA;\n",
              "      box-shadow: 0px 1px 2px rgba(60, 64, 67, 0.3), 0px 1px 3px 1px rgba(60, 64, 67, 0.15);\n",
              "      fill: #174EA6;\n",
              "    }\n",
              "\n",
              "    [theme=dark] .colab-df-convert {\n",
              "      background-color: #3B4455;\n",
              "      fill: #D2E3FC;\n",
              "    }\n",
              "\n",
              "    [theme=dark] .colab-df-convert:hover {\n",
              "      background-color: #434B5C;\n",
              "      box-shadow: 0px 1px 3px 1px rgba(0, 0, 0, 0.15);\n",
              "      filter: drop-shadow(0px 1px 2px rgba(0, 0, 0, 0.3));\n",
              "      fill: #FFFFFF;\n",
              "    }\n",
              "  </style>\n",
              "\n",
              "      <script>\n",
              "        const buttonEl =\n",
              "          document.querySelector('#df-e104b14d-238c-4b82-9378-f103534d25bd button.colab-df-convert');\n",
              "        buttonEl.style.display =\n",
              "          google.colab.kernel.accessAllowed ? 'block' : 'none';\n",
              "\n",
              "        async function convertToInteractive(key) {\n",
              "          const element = document.querySelector('#df-e104b14d-238c-4b82-9378-f103534d25bd');\n",
              "          const dataTable =\n",
              "            await google.colab.kernel.invokeFunction('convertToInteractive',\n",
              "                                                     [key], {});\n",
              "          if (!dataTable) return;\n",
              "\n",
              "          const docLinkHtml = 'Like what you see? Visit the ' +\n",
              "            '<a target=\"_blank\" href=https://colab.research.google.com/notebooks/data_table.ipynb>data table notebook</a>'\n",
              "            + ' to learn more about interactive tables.';\n",
              "          element.innerHTML = '';\n",
              "          dataTable['output_type'] = 'display_data';\n",
              "          await google.colab.output.renderOutput(dataTable, element);\n",
              "          const docLink = document.createElement('div');\n",
              "          docLink.innerHTML = docLinkHtml;\n",
              "          element.appendChild(docLink);\n",
              "        }\n",
              "      </script>\n",
              "    </div>\n",
              "  </div>\n",
              "  "
            ]
          },
          "metadata": {},
          "execution_count": 28
        }
      ]
    },
    {
      "cell_type": "code",
      "source": [
        "rel_plot(us, 'United States')"
      ],
      "metadata": {
        "colab": {
          "base_uri": "https://localhost:8080/",
          "height": 513
        },
        "id": "W3fzVKZDnyE4",
        "outputId": "752010be-5d01-43d5-bc49-01515dc7afbf"
      },
      "id": "W3fzVKZDnyE4",
      "execution_count": 29,
      "outputs": [
        {
          "output_type": "display_data",
          "data": {
            "text/plain": [
              "<Figure size 720x576 with 3 Axes>"
            ],
            "image/png": "[encoded data removed]"
          },
          "metadata": {
            "needs_background": "light"
          }
        }
      ]
    },
    {
      "cell_type": "markdown",
      "source": [
        "**There seems to b\n",
        "e positive correlation between the three indicators in United States**"
      ],
      "metadata": {
        "id": "hFL0FSYOBn6Q"
      },
      "id": "hFL0FSYOBn6Q"
    },
    {
      "cell_type": "markdown",
      "source": [
        "#### Data on China"
      ],
      "metadata": {
        "id": "67dh0pJdtz02"
      },
      "id": "67dh0pJdtz02"
    },
    {
      "cell_type": "code",
      "execution_count": 30,
      "id": "3d6423b7",
      "metadata": {
        "id": "3d6423b7",
        "colab": {
          "base_uri": "https://localhost:8080/",
          "height": 425
        },
        "outputId": "9ca7ee6e-df64-46c6-dc0f-8f471899a2b1"
      },
      "outputs": [
        {
          "output_type": "execute_result",
          "data": {
            "text/plain": [
              "                  coal        oil      co2\n",
              "year                                      \n",
              "2007-01-01  1580000000  369000000  5570000\n",
              "2008-01-01  1610000000  376000000  5990000\n",
              "2009-01-01  1690000000  391000000  6630000\n",
              "2010-01-01  1750000000  446000000  7240000\n",
              "2011-01-01  1900000000  462000000  7950000\n",
              "2012-01-01  1930000000  484000000  8199999\n",
              "2013-01-01  1970000000  505000000  8320000\n",
              "2014-01-01  1950000000  524000000  8320000\n",
              "2015-01-01  1910000000  558000000  8350000\n",
              "2016-01-01  1890000000  571000000  8470000\n",
              "2017-01-01  1890000000  596000000  8560000"
            ],
            "text/html": [
              "\n",
              "  <div id=\"df-f07ff3b9-a28b-4f91-9f07-bde400ace6ad\">\n",
              "    <div class=\"colab-df-container\">\n",
              "      <div>\n",
              "<style scoped>\n",
              "    .dataframe tbody tr th:only-of-type {\n",
              "        vertical-align: middle;\n",
              "    }\n",
              "\n",
              "    .dataframe tbody tr th {\n",
              "        vertical-align: top;\n",
              "    }\n",
              "\n",
              "    .dataframe thead th {\n",
              "        text-align: right;\n",
              "    }\n",
              "</style>\n",
              "<table border=\"1\" class=\"dataframe\">\n",
              "  <thead>\n",
              "    <tr style=\"text-align: right;\">\n",
              "      <th></th>\n",
              "      <th>coal</th>\n",
              "      <th>oil</th>\n",
              "      <th>co2</th>\n",
              "    </tr>\n",
              "    <tr>\n",
              "      <th>year</th>\n",
              "      <th></th>\n",
              "      <th></th>\n",
              "      <th></th>\n",
              "    </tr>\n",
              "  </thead>\n",
              "  <tbody>\n",
              "    <tr>\n",
              "      <th>2007-01-01</th>\n",
              "      <td>1580000000</td>\n",
              "      <td>369000000</td>\n",
              "      <td>5570000</td>\n",
              "    </tr>\n",
              "    <tr>\n",
              "      <th>2008-01-01</th>\n",
              "      <td>1610000000</td>\n",
              "      <td>376000000</td>\n",
              "      <td>5990000</td>\n",
              "    </tr>\n",
              "    <tr>\n",
              "      <th>2009-01-01</th>\n",
              "      <td>1690000000</td>\n",
              "      <td>391000000</td>\n",
              "      <td>6630000</td>\n",
              "    </tr>\n",
              "    <tr>\n",
              "      <th>2010-01-01</th>\n",
              "      <td>1750000000</td>\n",
              "      <td>446000000</td>\n",
              "      <td>7240000</td>\n",
              "    </tr>\n",
              "    <tr>\n",
              "      <th>2011-01-01</th>\n",
              "      <td>1900000000</td>\n",
              "      <td>462000000</td>\n",
              "      <td>7950000</td>\n",
              "    </tr>\n",
              "    <tr>\n",
              "      <th>2012-01-01</th>\n",
              "      <td>1930000000</td>\n",
              "      <td>484000000</td>\n",
              "      <td>8199999</td>\n",
              "    </tr>\n",
              "    <tr>\n",
              "      <th>2013-01-01</th>\n",
              "      <td>1970000000</td>\n",
              "      <td>505000000</td>\n",
              "      <td>8320000</td>\n",
              "    </tr>\n",
              "    <tr>\n",
              "      <th>2014-01-01</th>\n",
              "      <td>1950000000</td>\n",
              "      <td>524000000</td>\n",
              "      <td>8320000</td>\n",
              "    </tr>\n",
              "    <tr>\n",
              "      <th>2015-01-01</th>\n",
              "      <td>1910000000</td>\n",
              "      <td>558000000</td>\n",
              "      <td>8350000</td>\n",
              "    </tr>\n",
              "    <tr>\n",
              "      <th>2016-01-01</th>\n",
              "      <td>1890000000</td>\n",
              "      <td>571000000</td>\n",
              "      <td>8470000</td>\n",
              "    </tr>\n",
              "    <tr>\n",
              "      <th>2017-01-01</th>\n",
              "      <td>1890000000</td>\n",
              "      <td>596000000</td>\n",
              "      <td>8560000</td>\n",
              "    </tr>\n",
              "  </tbody>\n",
              "</table>\n",
              "</div>\n",
              "      <button class=\"colab-df-convert\" onclick=\"convertToInteractive('df-f07ff3b9-a28b-4f91-9f07-bde400ace6ad')\"\n",
              "              title=\"Convert this dataframe to an interactive table.\"\n",
              "              style=\"display:none;\">\n",
              "        \n",
              "  <svg xmlns=\"http://www.w3.org/2000/svg\" height=\"24px\"viewBox=\"0 0 24 24\"\n",
              "       width=\"24px\">\n",
              "    <path d=\"M0 0h24v24H0V0z\" fill=\"none\"/>\n",
              "    <path d=\"M18.56 5.44l.94 2.06.94-2.06 2.06-.94-2.06-.94-.94-2.06-.94 2.06-2.06.94zm-11 1L8.5 8.5l.94-2.06 2.06-.94-2.06-.94L8.5 2.5l-.94 2.06-2.06.94zm10 10l.94 2.06.94-2.06 2.06-.94-2.06-.94-.94-2.06-.94 2.06-2.06.94z\"/><path d=\"M17.41 7.96l-1.37-1.37c-.4-.4-.92-.59-1.43-.59-.52 0-1.04.2-1.43.59L10.3 9.45l-7.72 7.72c-.78.78-.78 2.05 0 2.83L4 21.41c.39.39.9.59 1.41.59.51 0 1.02-.2 1.41-.59l7.78-7.78 2.81-2.81c.8-.78.8-2.07 0-2.86zM5.41 20L4 18.59l7.72-7.72 1.47 1.35L5.41 20z\"/>\n",
              "  </svg>\n",
              "      </button>\n",
              "      \n",
              "  <style>\n",
              "    .colab-df-container {\n",
              "      display:flex;\n",
              "      flex-wrap:wrap;\n",
              "      gap: 12px;\n",
              "    }\n",
              "\n",
              "    .colab-df-convert {\n",
              "      background-color: #E8F0FE;\n",
              "      border: none;\n",
              "      border-radius: 50%;\n",
              "      cursor: pointer;\n",
              "      display: none;\n",
              "      fill: #1967D2;\n",
              "      height: 32px;\n",
              "      padding: 0 0 0 0;\n",
              "      width: 32px;\n",
              "    }\n",
              "\n",
              "    .colab-df-convert:hover {\n",
              "      background-color: #E2EBFA;\n",
              "      box-shadow: 0px 1px 2px rgba(60, 64, 67, 0.3), 0px 1px 3px 1px rgba(60, 64, 67, 0.15);\n",
              "      fill: #174EA6;\n",
              "    }\n",
              "\n",
              "    [theme=dark] .colab-df-convert {\n",
              "      background-color: #3B4455;\n",
              "      fill: #D2E3FC;\n",
              "    }\n",
              "\n",
              "    [theme=dark] .colab-df-convert:hover {\n",
              "      background-color: #434B5C;\n",
              "      box-shadow: 0px 1px 3px 1px rgba(0, 0, 0, 0.15);\n",
              "      filter: drop-shadow(0px 1px 2px rgba(0, 0, 0, 0.3));\n",
              "      fill: #FFFFFF;\n",
              "    }\n",
              "  </style>\n",
              "\n",
              "      <script>\n",
              "        const buttonEl =\n",
              "          document.querySelector('#df-f07ff3b9-a28b-4f91-9f07-bde400ace6ad button.colab-df-convert');\n",
              "        buttonEl.style.display =\n",
              "          google.colab.kernel.accessAllowed ? 'block' : 'none';\n",
              "\n",
              "        async function convertToInteractive(key) {\n",
              "          const element = document.querySelector('#df-f07ff3b9-a28b-4f91-9f07-bde400ace6ad');\n",
              "          const dataTable =\n",
              "            await google.colab.kernel.invokeFunction('convertToInteractive',\n",
              "                                                     [key], {});\n",
              "          if (!dataTable) return;\n",
              "\n",
              "          const docLinkHtml = 'Like what you see? Visit the ' +\n",
              "            '<a target=\"_blank\" href=https://colab.research.google.com/notebooks/data_table.ipynb>data table notebook</a>'\n",
              "            + ' to learn more about interactive tables.';\n",
              "          element.innerHTML = '';\n",
              "          dataTable['output_type'] = 'display_data';\n",
              "          await google.colab.output.renderOutput(dataTable, element);\n",
              "          const docLink = document.createElement('div');\n",
              "          docLink.innerHTML = docLinkHtml;\n",
              "          element.appendChild(docLink);\n",
              "        }\n",
              "      </script>\n",
              "    </div>\n",
              "  </div>\n",
              "  "
            ]
          },
          "metadata": {},
          "execution_count": 30
        }
      ],
      "source": [
        "china = count(df = data, countryname = \"country == 'China'\")\n",
        "china"
      ]
    },
    {
      "cell_type": "code",
      "source": [
        "rel_plot(china, 'China')"
      ],
      "metadata": {
        "colab": {
          "base_uri": "https://localhost:8080/",
          "height": 513
        },
        "id": "G63SaAzFoHrW",
        "outputId": "0a7f5ef7-62ef-4144-a271-259f35137b2b"
      },
      "id": "G63SaAzFoHrW",
      "execution_count": 31,
      "outputs": [
        {
          "output_type": "display_data",
          "data": {
            "text/plain": [
              "<Figure size 720x576 with 3 Axes>"
            ],
            "image/png": "[encoded data removed]"
          },
          "metadata": {
            "needs_background": "light"
          }
        }
      ]
    },
    {
      "cell_type": "markdown",
      "source": [
        "**There seems to be positive correlation between the three indicators in China**"
      ],
      "metadata": {
        "id": "uyxKeIadCIYd"
      },
      "id": "uyxKeIadCIYd"
    },
    {
      "cell_type": "markdown",
      "source": [
        "#### Data on India"
      ],
      "metadata": {
        "id": "56yHhCjduJit"
      },
      "id": "56yHhCjduJit"
    },
    {
      "cell_type": "code",
      "source": [
        "india = count(df = data, countryname = \"country == 'India'\")\n",
        "india"
      ],
      "metadata": {
        "id": "oa0hJOGg9wPy",
        "colab": {
          "base_uri": "https://localhost:8080/",
          "height": 425
        },
        "outputId": "2e5599ce-f87f-4559-9488-bfeea2e984fc"
      },
      "id": "oa0hJOGg9wPy",
      "execution_count": 32,
      "outputs": [
        {
          "output_type": "execute_result",
          "data": {
            "text/plain": [
              "                 coal        oil      co2\n",
              "year                                     \n",
              "2007-01-01  240000000  139000000  1300000\n",
              "2008-01-01  259000000  146000000  1430000\n",
              "2009-01-01  281000000  154000000  1630000\n",
              "2010-01-01  290000000  157000000  1610000\n",
              "2011-01-01  305000000  164000000  1690000\n",
              "2012-01-01  330000000  175000000  1830000\n",
              "2013-01-01  353000000  176000000  1800000\n",
              "2014-01-01  388000000  182000000  1990000\n",
              "2015-01-01  395000000  197000000  2110000\n",
              "2016-01-01  403000000  218000000  2180000\n",
              "2017-01-01  417000000  226000000  2260000"
            ],
            "text/html": [
              "\n",
              "  <div id=\"df-5fead794-bad9-4401-b2d9-b28ec1c1cc7b\">\n",
              "    <div class=\"colab-df-container\">\n",
              "      <div>\n",
              "<style scoped>\n",
              "    .dataframe tbody tr th:only-of-type {\n",
              "        vertical-align: middle;\n",
              "    }\n",
              "\n",
              "    .dataframe tbody tr th {\n",
              "        vertical-align: top;\n",
              "    }\n",
              "\n",
              "    .dataframe thead th {\n",
              "        text-align: right;\n",
              "    }\n",
              "</style>\n",
              "<table border=\"1\" class=\"dataframe\">\n",
              "  <thead>\n",
              "    <tr style=\"text-align: right;\">\n",
              "      <th></th>\n",
              "      <th>coal</th>\n",
              "      <th>oil</th>\n",
              "      <th>co2</th>\n",
              "    </tr>\n",
              "    <tr>\n",
              "      <th>year</th>\n",
              "      <th></th>\n",
              "      <th></th>\n",
              "      <th></th>\n",
              "    </tr>\n",
              "  </thead>\n",
              "  <tbody>\n",
              "    <tr>\n",
              "      <th>2007-01-01</th>\n",
              "      <td>240000000</td>\n",
              "      <td>139000000</td>\n",
              "      <td>1300000</td>\n",
              "    </tr>\n",
              "    <tr>\n",
              "      <th>2008-01-01</th>\n",
              "      <td>259000000</td>\n",
              "      <td>146000000</td>\n",
              "      <td>1430000</td>\n",
              "    </tr>\n",
              "    <tr>\n",
              "      <th>2009-01-01</th>\n",
              "      <td>281000000</td>\n",
              "      <td>154000000</td>\n",
              "      <td>1630000</td>\n",
              "    </tr>\n",
              "    <tr>\n",
              "      <th>2010-01-01</th>\n",
              "      <td>290000000</td>\n",
              "      <td>157000000</td>\n",
              "      <td>1610000</td>\n",
              "    </tr>\n",
              "    <tr>\n",
              "      <th>2011-01-01</th>\n",
              "      <td>305000000</td>\n",
              "      <td>164000000</td>\n",
              "      <td>1690000</td>\n",
              "    </tr>\n",
              "    <tr>\n",
              "      <th>2012-01-01</th>\n",
              "      <td>330000000</td>\n",
              "      <td>175000000</td>\n",
              "      <td>1830000</td>\n",
              "    </tr>\n",
              "    <tr>\n",
              "      <th>2013-01-01</th>\n",
              "      <td>353000000</td>\n",
              "      <td>176000000</td>\n",
              "      <td>1800000</td>\n",
              "    </tr>\n",
              "    <tr>\n",
              "      <th>2014-01-01</th>\n",
              "      <td>388000000</td>\n",
              "      <td>182000000</td>\n",
              "      <td>1990000</td>\n",
              "    </tr>\n",
              "    <tr>\n",
              "      <th>2015-01-01</th>\n",
              "      <td>395000000</td>\n",
              "      <td>197000000</td>\n",
              "      <td>2110000</td>\n",
              "    </tr>\n",
              "    <tr>\n",
              "      <th>2016-01-01</th>\n",
              "      <td>403000000</td>\n",
              "      <td>218000000</td>\n",
              "      <td>2180000</td>\n",
              "    </tr>\n",
              "    <tr>\n",
              "      <th>2017-01-01</th>\n",
              "      <td>417000000</td>\n",
              "      <td>226000000</td>\n",
              "      <td>2260000</td>\n",
              "    </tr>\n",
              "  </tbody>\n",
              "</table>\n",
              "</div>\n",
              "      <button class=\"colab-df-convert\" onclick=\"convertToInteractive('df-5fead794-bad9-4401-b2d9-b28ec1c1cc7b')\"\n",
              "              title=\"Convert this dataframe to an interactive table.\"\n",
              "              style=\"display:none;\">\n",
              "        \n",
              "  <svg xmlns=\"http://www.w3.org/2000/svg\" height=\"24px\"viewBox=\"0 0 24 24\"\n",
              "       width=\"24px\">\n",
              "    <path d=\"M0 0h24v24H0V0z\" fill=\"none\"/>\n",
              "    <path d=\"M18.56 5.44l.94 2.06.94-2.06 2.06-.94-2.06-.94-.94-2.06-.94 2.06-2.06.94zm-11 1L8.5 8.5l.94-2.06 2.06-.94-2.06-.94L8.5 2.5l-.94 2.06-2.06.94zm10 10l.94 2.06.94-2.06 2.06-.94-2.06-.94-.94-2.06-.94 2.06-2.06.94z\"/><path d=\"M17.41 7.96l-1.37-1.37c-.4-.4-.92-.59-1.43-.59-.52 0-1.04.2-1.43.59L10.3 9.45l-7.72 7.72c-.78.78-.78 2.05 0 2.83L4 21.41c.39.39.9.59 1.41.59.51 0 1.02-.2 1.41-.59l7.78-7.78 2.81-2.81c.8-.78.8-2.07 0-2.86zM5.41 20L4 18.59l7.72-7.72 1.47 1.35L5.41 20z\"/>\n",
              "  </svg>\n",
              "      </button>\n",
              "      \n",
              "  <style>\n",
              "    .colab-df-container {\n",
              "      display:flex;\n",
              "      flex-wrap:wrap;\n",
              "      gap: 12px;\n",
              "    }\n",
              "\n",
              "    .colab-df-convert {\n",
              "      background-color: #E8F0FE;\n",
              "      border: none;\n",
              "      border-radius: 50%;\n",
              "      cursor: pointer;\n",
              "      display: none;\n",
              "      fill: #1967D2;\n",
              "      height: 32px;\n",
              "      padding: 0 0 0 0;\n",
              "      width: 32px;\n",
              "    }\n",
              "\n",
              "    .colab-df-convert:hover {\n",
              "      background-color: #E2EBFA;\n",
              "      box-shadow: 0px 1px 2px rgba(60, 64, 67, 0.3), 0px 1px 3px 1px rgba(60, 64, 67, 0.15);\n",
              "      fill: #174EA6;\n",
              "    }\n",
              "\n",
              "    [theme=dark] .colab-df-convert {\n",
              "      background-color: #3B4455;\n",
              "      fill: #D2E3FC;\n",
              "    }\n",
              "\n",
              "    [theme=dark] .colab-df-convert:hover {\n",
              "      background-color: #434B5C;\n",
              "      box-shadow: 0px 1px 3px 1px rgba(0, 0, 0, 0.15);\n",
              "      filter: drop-shadow(0px 1px 2px rgba(0, 0, 0, 0.3));\n",
              "      fill: #FFFFFF;\n",
              "    }\n",
              "  </style>\n",
              "\n",
              "      <script>\n",
              "        const buttonEl =\n",
              "          document.querySelector('#df-5fead794-bad9-4401-b2d9-b28ec1c1cc7b button.colab-df-convert');\n",
              "        buttonEl.style.display =\n",
              "          google.colab.kernel.accessAllowed ? 'block' : 'none';\n",
              "\n",
              "        async function convertToInteractive(key) {\n",
              "          const element = document.querySelector('#df-5fead794-bad9-4401-b2d9-b28ec1c1cc7b');\n",
              "          const dataTable =\n",
              "            await google.colab.kernel.invokeFunction('convertToInteractive',\n",
              "                                                     [key], {});\n",
              "          if (!dataTable) return;\n",
              "\n",
              "          const docLinkHtml = 'Like what you see? Visit the ' +\n",
              "            '<a target=\"_blank\" href=https://colab.research.google.com/notebooks/data_table.ipynb>data table notebook</a>'\n",
              "            + ' to learn more about interactive tables.';\n",
              "          element.innerHTML = '';\n",
              "          dataTable['output_type'] = 'display_data';\n",
              "          await google.colab.output.renderOutput(dataTable, element);\n",
              "          const docLink = document.createElement('div');\n",
              "          docLink.innerHTML = docLinkHtml;\n",
              "          element.appendChild(docLink);\n",
              "        }\n",
              "      </script>\n",
              "    </div>\n",
              "  </div>\n",
              "  "
            ]
          },
          "metadata": {},
          "execution_count": 32
        }
      ]
    },
    {
      "cell_type": "code",
      "source": [
        "rel_plot(india, 'India')"
      ],
      "metadata": {
        "colab": {
          "base_uri": "https://localhost:8080/",
          "height": 513
        },
        "id": "W4LONm9pqhKE",
        "outputId": "cb38aaeb-1e44-42dd-98ce-4e6db471064b"
      },
      "id": "W4LONm9pqhKE",
      "execution_count": 33,
      "outputs": [
        {
          "output_type": "display_data",
          "data": {
            "text/plain": [
              "<Figure size 720x576 with 3 Axes>"
            ],
            "image/png": "[encoded data removed]"
          },
          "metadata": {
            "needs_background": "light"
          }
        }
      ]
    },
    {
      "cell_type": "markdown",
      "source": [
        "**There seems to be positive correlation between the three indicators in India**"
      ],
      "metadata": {
        "id": "gujptt8aCTz9"
      },
      "id": "gujptt8aCTz9"
    },
    {
      "cell_type": "markdown",
      "source": [
        "#### Data on Japan"
      ],
      "metadata": {
        "id": "BnP6HVNkuUXG"
      },
      "id": "BnP6HVNkuUXG"
    },
    {
      "cell_type": "code",
      "source": [
        "japan = count(df = data, countryname = \"country == 'Japan'\")\n",
        "japan"
      ],
      "metadata": {
        "id": "UBWloMjz99E6",
        "colab": {
          "base_uri": "https://localhost:8080/",
          "height": 425
        },
        "outputId": "69b0efab-4422-4d70-f4b1-e5392d464d7f"
      },
      "id": "UBWloMjz99E6",
      "execution_count": 34,
      "outputs": [
        {
          "output_type": "execute_result",
          "data": {
            "text/plain": [
              "                 coal        oil      co2\n",
              "year                                     \n",
              "2007-01-01  118000000  231000000  1500000\n",
              "2008-01-01  122000000  225000000  1460000\n",
              "2009-01-01  102000000  200000000  1360000\n",
              "2010-01-01  116000000  202000000  1410000\n",
              "2011-01-01  110000000  203000000  1490000\n",
              "2012-01-01  116000000  217000000  1540000\n",
              "2013-01-01  121000000  207000000  1520000\n",
              "2014-01-01  119000000  197000000  1470000\n",
              "2015-01-01  120000000  189000000  1430000\n",
              "2016-01-01  120000000  183000000  1410000\n",
              "2017-01-01  122000000  180000000  1390000"
            ],
            "text/html": [
              "\n",
              "  <div id=\"df-7f6e39af-1ecf-468b-968e-3b3db552bac9\">\n",
              "    <div class=\"colab-df-container\">\n",
              "      <div>\n",
              "<style scoped>\n",
              "    .dataframe tbody tr th:only-of-type {\n",
              "        vertical-align: middle;\n",
              "    }\n",
              "\n",
              "    .dataframe tbody tr th {\n",
              "        vertical-align: top;\n",
              "    }\n",
              "\n",
              "    .dataframe thead th {\n",
              "        text-align: right;\n",
              "    }\n",
              "</style>\n",
              "<table border=\"1\" class=\"dataframe\">\n",
              "  <thead>\n",
              "    <tr style=\"text-align: right;\">\n",
              "      <th></th>\n",
              "      <th>coal</th>\n",
              "      <th>oil</th>\n",
              "      <th>co2</th>\n",
              "    </tr>\n",
              "    <tr>\n",
              "      <th>year</th>\n",
              "      <th></th>\n",
              "      <th></th>\n",
              "      <th></th>\n",
              "    </tr>\n",
              "  </thead>\n",
              "  <tbody>\n",
              "    <tr>\n",
              "      <th>2007-01-01</th>\n",
              "      <td>118000000</td>\n",
              "      <td>231000000</td>\n",
              "      <td>1500000</td>\n",
              "    </tr>\n",
              "    <tr>\n",
              "      <th>2008-01-01</th>\n",
              "      <td>122000000</td>\n",
              "      <td>225000000</td>\n",
              "      <td>1460000</td>\n",
              "    </tr>\n",
              "    <tr>\n",
              "      <th>2009-01-01</th>\n",
              "      <td>102000000</td>\n",
              "      <td>200000000</td>\n",
              "      <td>1360000</td>\n",
              "    </tr>\n",
              "    <tr>\n",
              "      <th>2010-01-01</th>\n",
              "      <td>116000000</td>\n",
              "      <td>202000000</td>\n",
              "      <td>1410000</td>\n",
              "    </tr>\n",
              "    <tr>\n",
              "      <th>2011-01-01</th>\n",
              "      <td>110000000</td>\n",
              "      <td>203000000</td>\n",
              "      <td>1490000</td>\n",
              "    </tr>\n",
              "    <tr>\n",
              "      <th>2012-01-01</th>\n",
              "      <td>116000000</td>\n",
              "      <td>217000000</td>\n",
              "      <td>1540000</td>\n",
              "    </tr>\n",
              "    <tr>\n",
              "      <th>2013-01-01</th>\n",
              "      <td>121000000</td>\n",
              "      <td>207000000</td>\n",
              "      <td>1520000</td>\n",
              "    </tr>\n",
              "    <tr>\n",
              "      <th>2014-01-01</th>\n",
              "      <td>119000000</td>\n",
              "      <td>197000000</td>\n",
              "      <td>1470000</td>\n",
              "    </tr>\n",
              "    <tr>\n",
              "      <th>2015-01-01</th>\n",
              "      <td>120000000</td>\n",
              "      <td>189000000</td>\n",
              "      <td>1430000</td>\n",
              "    </tr>\n",
              "    <tr>\n",
              "      <th>2016-01-01</th>\n",
              "      <td>120000000</td>\n",
              "      <td>183000000</td>\n",
              "      <td>1410000</td>\n",
              "    </tr>\n",
              "    <tr>\n",
              "      <th>2017-01-01</th>\n",
              "      <td>122000000</td>\n",
              "      <td>180000000</td>\n",
              "      <td>1390000</td>\n",
              "    </tr>\n",
              "  </tbody>\n",
              "</table>\n",
              "</div>\n",
              "      <button class=\"colab-df-convert\" onclick=\"convertToInteractive('df-7f6e39af-1ecf-468b-968e-3b3db552bac9')\"\n",
              "              title=\"Convert this dataframe to an interactive table.\"\n",
              "              style=\"display:none;\">\n",
              "        \n",
              "  <svg xmlns=\"http://www.w3.org/2000/svg\" height=\"24px\"viewBox=\"0 0 24 24\"\n",
              "       width=\"24px\">\n",
              "    <path d=\"M0 0h24v24H0V0z\" fill=\"none\"/>\n",
              "    <path d=\"M18.56 5.44l.94 2.06.94-2.06 2.06-.94-2.06-.94-.94-2.06-.94 2.06-2.06.94zm-11 1L8.5 8.5l.94-2.06 2.06-.94-2.06-.94L8.5 2.5l-.94 2.06-2.06.94zm10 10l.94 2.06.94-2.06 2.06-.94-2.06-.94-.94-2.06-.94 2.06-2.06.94z\"/><path d=\"M17.41 7.96l-1.37-1.37c-.4-.4-.92-.59-1.43-.59-.52 0-1.04.2-1.43.59L10.3 9.45l-7.72 7.72c-.78.78-.78 2.05 0 2.83L4 21.41c.39.39.9.59 1.41.59.51 0 1.02-.2 1.41-.59l7.78-7.78 2.81-2.81c.8-.78.8-2.07 0-2.86zM5.41 20L4 18.59l7.72-7.72 1.47 1.35L5.41 20z\"/>\n",
              "  </svg>\n",
              "      </button>\n",
              "      \n",
              "  <style>\n",
              "    .colab-df-container {\n",
              "      display:flex;\n",
              "      flex-wrap:wrap;\n",
              "      gap: 12px;\n",
              "    }\n",
              "\n",
              "    .colab-df-convert {\n",
              "      background-color: #E8F0FE;\n",
              "      border: none;\n",
              "      border-radius: 50%;\n",
              "      cursor: pointer;\n",
              "      display: none;\n",
              "      fill: #1967D2;\n",
              "      height: 32px;\n",
              "      padding: 0 0 0 0;\n",
              "      width: 32px;\n",
              "    }\n",
              "\n",
              "    .colab-df-convert:hover {\n",
              "      background-color: #E2EBFA;\n",
              "      box-shadow: 0px 1px 2px rgba(60, 64, 67, 0.3), 0px 1px 3px 1px rgba(60, 64, 67, 0.15);\n",
              "      fill: #174EA6;\n",
              "    }\n",
              "\n",
              "    [theme=dark] .colab-df-convert {\n",
              "      background-color: #3B4455;\n",
              "      fill: #D2E3FC;\n",
              "    }\n",
              "\n",
              "    [theme=dark] .colab-df-convert:hover {\n",
              "      background-color: #434B5C;\n",
              "      box-shadow: 0px 1px 3px 1px rgba(0, 0, 0, 0.15);\n",
              "      filter: drop-shadow(0px 1px 2px rgba(0, 0, 0, 0.3));\n",
              "      fill: #FFFFFF;\n",
              "    }\n",
              "  </style>\n",
              "\n",
              "      <script>\n",
              "        const buttonEl =\n",
              "          document.querySelector('#df-7f6e39af-1ecf-468b-968e-3b3db552bac9 button.colab-df-convert');\n",
              "        buttonEl.style.display =\n",
              "          google.colab.kernel.accessAllowed ? 'block' : 'none';\n",
              "\n",
              "        async function convertToInteractive(key) {\n",
              "          const element = document.querySelector('#df-7f6e39af-1ecf-468b-968e-3b3db552bac9');\n",
              "          const dataTable =\n",
              "            await google.colab.kernel.invokeFunction('convertToInteractive',\n",
              "                                                     [key], {});\n",
              "          if (!dataTable) return;\n",
              "\n",
              "          const docLinkHtml = 'Like what you see? Visit the ' +\n",
              "            '<a target=\"_blank\" href=https://colab.research.google.com/notebooks/data_table.ipynb>data table notebook</a>'\n",
              "            + ' to learn more about interactive tables.';\n",
              "          element.innerHTML = '';\n",
              "          dataTable['output_type'] = 'display_data';\n",
              "          await google.colab.output.renderOutput(dataTable, element);\n",
              "          const docLink = document.createElement('div');\n",
              "          docLink.innerHTML = docLinkHtml;\n",
              "          element.appendChild(docLink);\n",
              "        }\n",
              "      </script>\n",
              "    </div>\n",
              "  </div>\n",
              "  "
            ]
          },
          "metadata": {},
          "execution_count": 34
        }
      ]
    },
    {
      "cell_type": "code",
      "source": [
        "rel_plot(japan, 'Japan')"
      ],
      "metadata": {
        "colab": {
          "base_uri": "https://localhost:8080/",
          "height": 513
        },
        "id": "gaR-bUE4q4VA",
        "outputId": "e31f8fd0-f559-41df-8391-765bf414b465"
      },
      "id": "gaR-bUE4q4VA",
      "execution_count": 35,
      "outputs": [
        {
          "output_type": "display_data",
          "data": {
            "text/plain": [
              "<Figure size 720x576 with 3 Axes>"
            ],
            "image/png": "[encoded data removed]"
          },
          "metadata": {
            "needs_background": "light"
          }
        }
      ]
    },
    {
      "cell_type": "markdown",
      "source": [
        "**There seems to be positive correlation between the three indicators in Japan**"
      ],
      "metadata": {
        "id": "l10f6LwAFLe1"
      },
      "id": "l10f6LwAFLe1"
    },
    {
      "cell_type": "markdown",
      "source": [
        "<a id='conclusion'></a>\n",
        "\n",
        "#### Conclusion "
      ],
      "metadata": {
        "id": "f71MeMCpFPH9"
      },
      "id": "f71MeMCpFPH9"
    },
    {
      "cell_type": "markdown",
      "source": [
        "From the analysis: \n",
        "> *   Analysis were made on the trend in consumption of coal and oil,co2 emission between 2007 and 2017. \n",
        "\n",
        "> *    Analysis were made to check countries with low and high consumption of coal and oil,co2 emission between 2007 and 2017.\n",
        "\n",
        "> *   It seems the consumption of oil has more effect than coal consumption on co2 emission.\n",
        "\n",
        "> *   More focus should be on  United States, china, india, Japan to get more insights on why they have high co2 emission and solve environmental problems.\n",
        "\n",
        "> *  From 2009 there has been exponential growth in consumption of coal and oil,co2 emission.\n",
        "\n",
        "> * A limitation  faced is getting enough data on indicators related to co2 emission.\n",
        "\n",
        "\n",
        "\n",
        "\n",
        "\n",
        "\n",
        "\n",
        "\n"
      ],
      "metadata": {
        "id": "2JP8toJaFsjl"
      },
      "id": "2JP8toJaFsjl"
    }
  ],
  "metadata": {
    "kernelspec": {
      "display_name": "Python 3",
      "language": "python",
      "name": "python3"
    },
    "language_info": {
      "codemirror_mode": {
        "name": "ipython",
        "version": 3
      },
      "file_extension": ".py",
      "mimetype": "text/x-python",
      "name": "python",
      "nbconvert_exporter": "python",
      "pygments_lexer": "ipython3",
      "version": "3.7.3"
    },
    "colab": {
      "name": "Hafsah_Anibaba_project1.ipynb",
      "provenance": [],
      "collapsed_sections": []
    }
  },
  "nbformat": 4,
  "nbformat_minor": 5
}